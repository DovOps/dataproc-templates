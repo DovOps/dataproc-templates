{
 "cells": [
  {
   "cell_type": "markdown",
   "id": "1db5371a-8f16-47b7-bcc7-5af386e9b6d8",
   "metadata": {},
   "source": [
    "# <center>MySQL to Spanner Migration"
   ]
  },
  {
   "cell_type": "markdown",
   "id": "7d89b301-5249-462a-97d8-986488b303fd",
   "metadata": {},
   "source": [
    "## Step 1: Install Libraries\n",
    "#### Run Step 1 one time for each new notebook instance"
   ]
  },
  {
   "cell_type": "code",
   "execution_count": 1,
   "id": "fef65ec2-ad6b-407f-a993-7cdf871bba11",
   "metadata": {
    "collapsed": true,
    "jupyter": {
     "outputs_hidden": true
    },
    "tags": []
   },
   "outputs": [
    {
     "name": "stdout",
     "output_type": "stream",
     "text": [
      "Collecting pymysql\n",
      "  Downloading PyMySQL-1.0.2-py3-none-any.whl (43 kB)\n",
      "     ━━━━━━━━━━━━━━━━━━━━━━━━━━━━━━━━━━━━━━━━ 43.8/43.8 kB 4.6 MB/s eta 0:00:00\n",
      "Requirement already satisfied: SQLAlchemy in /opt/conda/lib/python3.7/site-packages (1.4.39)\n",
      "Requirement already satisfied: importlib-metadata in /opt/conda/lib/python3.7/site-packages (from SQLAlchemy) (4.11.4)\n",
      "Requirement already satisfied: greenlet!=0.4.17 in /opt/conda/lib/python3.7/site-packages (from SQLAlchemy) (1.1.2)\n",
      "Requirement already satisfied: zipp>=0.5 in /opt/conda/lib/python3.7/site-packages (from importlib-metadata->SQLAlchemy) (3.8.1)\n",
      "Requirement already satisfied: typing-extensions>=3.6.4 in /opt/conda/lib/python3.7/site-packages (from importlib-metadata->SQLAlchemy) (4.3.0)\n",
      "Installing collected packages: pymysql\n",
      "Successfully installed pymysql-1.0.2\n"
     ]
    },
    {
     "name": "stderr",
     "output_type": "stream",
     "text": [
      "  WARNING: The script tabulate is installed in '/home/jupyter/.local/bin' which is not on PATH.\n",
      "  Consider adding this directory to PATH or, if you prefer to suppress this warning, use --no-warn-script-location.\n",
      "  WARNING: The script strip-hints is installed in '/home/jupyter/.local/bin' which is not on PATH.\n",
      "  Consider adding this directory to PATH or, if you prefer to suppress this warning, use --no-warn-script-location.\n",
      "  WARNING: The script jsonschema is installed in '/home/jupyter/.local/bin' which is not on PATH.\n",
      "  Consider adding this directory to PATH or, if you prefer to suppress this warning, use --no-warn-script-location.\n",
      "  WARNING: The scripts dsl-compile, dsl-compile-v2 and kfp are installed in '/home/jupyter/.local/bin' which is not on PATH.\n",
      "  Consider adding this directory to PATH or, if you prefer to suppress this warning, use --no-warn-script-location.\n"
     ]
    }
   ],
   "source": [
    "%%bash\n",
    "pip3 install pymysql SQLAlchemy\n",
    "pip3 install --upgrade google-cloud-pipeline-components kfp --user -q"
   ]
  },
  {
   "cell_type": "code",
   "execution_count": 2,
   "id": "0e90943f-b965-4f7f-b631-ce62227d5e83",
   "metadata": {
    "collapsed": true,
    "jupyter": {
     "outputs_hidden": true
    },
    "tags": []
   },
   "outputs": [
    {
     "name": "stderr",
     "output_type": "stream",
     "text": [
      "--2022-09-01 01:41:48--  https://mirrors.estointernet.in/apache/maven/maven-3/3.6.3/binaries/apache-maven-3.6.3-bin.tar.gz\n",
      "Resolving mirrors.estointernet.in (mirrors.estointernet.in)... 43.255.166.254, 2403:8940:3:1::f\n",
      "Connecting to mirrors.estointernet.in (mirrors.estointernet.in)|43.255.166.254|:443... connected.\n",
      "HTTP request sent, awaiting response... 200 OK\n",
      "Length: 9506321 (9.1M) [application/octet-stream]\n",
      "Saving to: ‘apache-maven-3.6.3-bin.tar.gz’\n",
      "\n",
      "     0K .......... .......... .......... .......... ..........  0%  116K 80s\n",
      "    50K .......... .......... .......... .......... ..........  1%  257K 58s\n",
      "   100K .......... .......... .......... .......... ..........  1%  474K 45s\n",
      "   150K .......... .......... .......... .......... ..........  2%  550K 37s\n",
      "   200K .......... .......... .......... .......... ..........  2%  591K 33s\n",
      "   250K .......... .......... .......... .......... ..........  3%  836K 29s\n",
      "   300K .......... .......... .......... .......... ..........  3% 1.05M 26s\n",
      "   350K .......... .......... .......... .......... ..........  4%  850K 24s\n",
      "   400K .......... .......... .......... .......... ..........  4% 1.41M 22s\n",
      "   450K .......... .......... .......... .......... ..........  5% 1.38M 20s\n",
      "   500K .......... .......... .......... .......... ..........  5% 1.58M 19s\n",
      "   550K .......... .......... .......... .......... ..........  6% 1.70M 17s\n",
      "   600K .......... .......... .......... .......... ..........  7% 1.84M 16s\n",
      "   650K .......... .......... .......... .......... ..........  7% 1.99M 15s\n",
      "   700K .......... .......... .......... .......... ..........  8% 2.21M 15s\n",
      "   750K .......... .......... .......... .......... ..........  8% 1.70M 14s\n",
      "   800K .......... .......... .......... .......... ..........  9% 2.54M 13s\n",
      "   850K .......... .......... .......... .......... ..........  9% 2.63M 12s\n",
      "   900K .......... .......... .......... .......... .......... 10% 2.78M 12s\n",
      "   950K .......... .......... .......... .......... .......... 10% 3.05M 11s\n",
      "  1000K .......... .......... .......... .......... .......... 11% 3.13M 11s\n",
      "  1050K .......... .......... .......... .......... .......... 11% 3.43M 10s\n",
      "  1100K .......... .......... .......... .......... .......... 12% 3.34M 10s\n",
      "  1150K .......... .......... .......... .......... .......... 12% 2.70M 10s\n",
      "  1200K .......... .......... .......... .......... .......... 13% 4.08M 9s\n",
      "  1250K .......... .......... .......... .......... .......... 14% 3.73M 9s\n",
      "  1300K .......... .......... .......... .......... .......... 14% 4.17M 9s\n",
      "  1350K .......... .......... .......... .......... .......... 15% 4.30M 8s\n",
      "  1400K .......... .......... .......... .......... .......... 15% 4.31M 8s\n",
      "  1450K .......... .......... .......... .......... .......... 16% 4.48M 8s\n",
      "  1500K .......... .......... .......... .......... .......... 16% 4.42M 8s\n",
      "  1550K .......... .......... .......... .......... .......... 17% 3.51M 7s\n",
      "  1600K .......... .......... .......... .......... .......... 17% 5.31M 7s\n",
      "  1650K .......... .......... .......... .......... .......... 18% 4.81M 7s\n",
      "  1700K .......... .......... .......... .......... .......... 18% 5.40M 7s\n",
      "  1750K .......... .......... .......... .......... .......... 19% 5.61M 7s\n",
      "  1800K .......... .......... .......... .......... .......... 19% 5.19M 6s\n",
      "  1850K .......... .......... .......... .......... .......... 20% 5.82M 6s\n",
      "  1900K .......... .......... .......... .......... .......... 21% 5.69M 6s\n",
      "  1950K .......... .......... .......... .......... .......... 21% 4.62M 6s\n",
      "  2000K .......... .......... .......... .......... .......... 22% 5.73M 6s\n",
      "  2050K .......... .......... .......... .......... .......... 22% 6.34M 6s\n",
      "  2100K .......... .......... .......... .......... .......... 23% 6.92M 5s\n",
      "  2150K .......... .......... .......... .......... .......... 23% 6.44M 5s\n",
      "  2200K .......... .......... .......... .......... .......... 24% 6.67M 5s\n",
      "  2250K .......... .......... .......... .......... .......... 24% 7.25M 5s\n",
      "  2300K .......... .......... .......... .......... .......... 25% 7.21M 5s\n",
      "  2350K .......... .......... .......... .......... .......... 25% 5.96M 5s\n",
      "  2400K .......... .......... .......... .......... .......... 26% 7.12M 5s\n",
      "  2450K .......... .......... .......... .......... .......... 26% 7.24M 5s\n",
      "  2500K .......... .......... .......... .......... .......... 27% 7.52M 4s\n",
      "  2550K .......... .......... .......... .......... .......... 28% 7.92M 4s\n",
      "  2600K .......... .......... .......... .......... .......... 28% 8.18M 4s\n",
      "  2650K .......... .......... .......... .......... .......... 29% 7.86M 4s\n",
      "  2700K .......... .......... .......... .......... .......... 29% 9.88M 4s\n",
      "  2750K .......... .......... .......... .......... .......... 30% 6.32M 4s\n",
      "  2800K .......... .......... .......... .......... .......... 30% 8.89M 4s\n",
      "  2850K .......... .......... .......... .......... .......... 31% 9.00M 4s\n",
      "  2900K .......... .......... .......... .......... .......... 31% 8.17M 4s\n",
      "  2950K .......... .......... .......... .......... .......... 32% 9.94M 4s\n",
      "  3000K .......... .......... .......... .......... .......... 32% 9.67M 4s\n",
      "  3050K .......... .......... .......... .......... .......... 33% 9.45M 3s\n",
      "  3100K .......... .......... .......... .......... .......... 33% 10.1M 3s\n",
      "  3150K .......... .......... .......... .......... .......... 34% 7.56M 3s\n",
      "  3200K .......... .......... .......... .......... .......... 35% 8.52M 3s\n",
      "  3250K .......... .......... .......... .......... .......... 35% 11.4M 3s\n",
      "  3300K .......... .......... .......... .......... .......... 36% 11.2M 3s\n",
      "  3350K .......... .......... .......... .......... .......... 36% 9.14M 3s\n",
      "  3400K .......... .......... .......... .......... .......... 37% 9.51M 3s\n",
      "  3450K .......... .......... .......... .......... .......... 37% 10.9M 3s\n",
      "  3500K .......... .......... .......... .......... .......... 38% 12.2M 3s\n",
      "  3550K .......... .......... .......... .......... .......... 38% 7.05M 3s\n",
      "  3600K .......... .......... .......... .......... .......... 39% 11.4M 3s\n",
      "  3650K .......... .......... .......... .......... .......... 39% 11.0M 3s\n",
      "  3700K .......... .......... .......... .......... .......... 40% 11.1M 3s\n",
      "  3750K .......... .......... .......... .......... .......... 40% 10.3M 3s\n",
      "  3800K .......... .......... .......... .......... .......... 41% 11.6M 3s\n",
      "  3850K .......... .......... .......... .......... .......... 42% 11.5M 3s\n",
      "  3900K .......... .......... .......... .......... .......... 42% 11.8M 2s\n",
      "  3950K .......... .......... .......... .......... .......... 43% 8.93M 2s\n",
      "  4000K .......... .......... .......... .......... .......... 43% 10.9M 2s\n",
      "  4050K .......... .......... .......... .......... .......... 44% 13.0M 2s\n",
      "  4100K .......... .......... .......... .......... .......... 44% 10.9M 2s\n",
      "  4150K .......... .......... .......... .......... .......... 45% 20.8M 2s\n",
      "  4200K .......... .......... .......... .......... .......... 45% 11.1M 2s\n",
      "  4250K .......... .......... .......... .......... .......... 46% 12.5M 2s\n",
      "  4300K .......... .......... .......... .......... .......... 46% 10.9M 2s\n",
      "  4350K .......... .......... .......... .......... .......... 47% 10.4M 2s\n",
      "  4400K .......... .......... .......... .......... .......... 47% 16.1M 2s\n",
      "  4450K .......... .......... .......... .......... .......... 48% 16.3M 2s\n",
      "  4500K .......... .......... .......... .......... .......... 49% 13.9M 2s\n",
      "  4550K .......... .......... .......... .......... .......... 49% 10.8M 2s\n",
      "  4600K .......... .......... .......... .......... .......... 50% 21.0M 2s\n",
      "  4650K .......... .......... .......... .......... .......... 50% 14.0M 2s\n",
      "  4700K .......... .......... .......... .......... .......... 51% 13.8M 2s\n",
      "  4750K .......... .......... .......... .......... .......... 51% 11.3M 2s\n",
      "  4800K .......... .......... .......... .......... .......... 52% 13.1M 2s\n",
      "  4850K .......... .......... .......... .......... .......... 52% 18.0M 2s\n",
      "  4900K .......... .......... .......... .......... .......... 53% 13.3M 2s\n",
      "  4950K .......... .......... .......... .......... .......... 53% 19.6M 2s\n",
      "  5000K .......... .......... .......... .......... .......... 54% 10.8M 2s\n",
      "  5050K .......... .......... .......... .......... .......... 54% 15.0M 2s\n",
      "  5100K .......... .......... .......... .......... .......... 55% 14.4M 2s\n",
      "  5150K .......... .......... .......... .......... .......... 56% 12.8M 2s\n",
      "  5200K .......... .......... .......... .......... .......... 56% 21.2M 1s\n",
      "  5250K .......... .......... .......... .......... .......... 57% 1.65M 1s\n",
      "  5300K .......... .......... .......... .......... .......... 57% 62.6M 1s\n",
      "  5350K .......... .......... .......... .......... .......... 58% 15.1M 1s\n",
      "  5400K .......... .......... .......... .......... .......... 58% 17.5M 1s\n",
      "  5450K .......... .......... .......... .......... .......... 59% 16.6M 1s\n",
      "  5500K .......... .......... .......... .......... .......... 59% 22.9M 1s\n",
      "  5550K .......... .......... .......... .......... .......... 60% 13.9M 1s\n",
      "  5600K .......... .......... .......... .......... .......... 60% 17.5M 1s\n",
      "  5650K .......... .......... .......... .......... .......... 61% 20.8M 1s\n",
      "  5700K .......... .......... .......... .......... .......... 61% 21.8M 1s\n",
      "  5750K .......... .......... .......... .......... .......... 62% 31.9M 1s\n",
      "  5800K .......... .......... .......... .......... .......... 63% 22.4M 1s\n",
      "  5850K .......... .......... .......... .......... .......... 63% 27.7M 1s\n",
      "  5900K .......... .......... .......... .......... .......... 64% 42.1M 1s\n",
      "  5950K .......... .......... .......... .......... .......... 64% 17.5M 1s\n",
      "  6000K .......... .......... .......... .......... .......... 65% 56.8M 1s\n",
      "  6050K .......... .......... .......... .......... .......... 65% 25.8M 1s\n",
      "  6100K .......... .......... .......... .......... .......... 66% 26.5M 1s\n",
      "  6150K .......... .......... .......... .......... .......... 66% 29.2M 1s\n",
      "  6200K .......... .......... .......... .......... .......... 67% 22.6M 1s\n",
      "  6250K .......... .......... .......... .......... .......... 67% 63.7M 1s\n",
      "  6300K .......... .......... .......... .......... .......... 68% 15.4M 1s\n",
      "  6350K .......... .......... .......... .......... .......... 68% 7.63M 1s\n",
      "  6400K .......... .......... .......... .......... .......... 69% 9.17M 1s\n",
      "  6450K .......... .......... .......... .......... .......... 70% 8.42M 1s\n",
      "  6500K .......... .......... .......... .......... .......... 70% 9.74M 1s\n",
      "  6550K .......... .......... .......... .......... .......... 71% 16.0M 1s\n",
      "  6600K .......... .......... .......... .......... .......... 71% 11.6M 1s\n",
      "  6650K .......... .......... .......... .......... .......... 72%  957K 1s\n",
      "  6700K .......... .......... .......... .......... .......... 72% 23.2M 1s\n",
      "  6750K .......... .......... .......... .......... .......... 73% 21.4M 1s\n",
      "  6800K .......... .......... .......... .......... .......... 73% 74.5M 1s\n",
      "  6850K .......... .......... .......... .......... .......... 74% 41.1M 1s\n",
      "  6900K .......... .......... .......... .......... .......... 74% 50.8M 1s\n",
      "  6950K .......... .......... .......... .......... .......... 75% 40.5M 1s\n",
      "  7000K .......... .......... .......... .......... .......... 75% 45.4M 1s\n",
      "  7050K .......... .......... .......... .......... .......... 76% 67.9M 1s\n",
      "  7100K .......... .......... .......... .......... .......... 77% 34.7M 1s\n",
      "  7150K .......... .......... .......... .......... .......... 77% 72.2M 1s\n",
      "  7200K .......... .......... .......... .......... .......... 78% 46.1M 1s\n",
      "  7250K .......... .......... .......... .......... .......... 78% 58.3M 1s\n",
      "  7300K .......... .......... .......... .......... .......... 79% 30.3M 1s\n",
      "  7350K .......... .......... .......... .......... .......... 79% 31.5M 1s\n",
      "  7400K .......... .......... .......... .......... .......... 80% 66.2M 1s\n",
      "  7450K .......... .......... .......... .......... .......... 80% 14.9M 1s\n",
      "  7500K .......... .......... .......... .......... .......... 81% 14.5M 0s\n",
      "  7550K .......... .......... .......... .......... .......... 81% 9.58M 0s\n",
      "  7600K .......... .......... .......... .......... .......... 82% 14.4M 0s\n",
      "  7650K .......... .......... .......... .......... .......... 82% 18.2M 0s\n",
      "  7700K .......... .......... .......... .......... .......... 83% 11.7M 0s\n",
      "  7750K .......... .......... .......... .......... .......... 84% 22.0M 0s\n",
      "  7800K .......... .......... .......... .......... .......... 84% 18.1M 0s\n",
      "  7850K .......... .......... .......... .......... .......... 85% 10.3M 0s\n",
      "  7900K .......... .......... .......... .......... .......... 85% 9.37M 0s\n",
      "  7950K .......... .......... .......... .......... .......... 86% 13.5M 0s\n",
      "  8000K .......... .......... .......... .......... .......... 86% 20.9M 0s\n",
      "  8050K .......... .......... .......... .......... .......... 87%  882K 0s\n",
      "  8100K .......... .......... .......... .......... .......... 87% 49.2M 0s\n",
      "  8150K .......... .......... .......... .......... .......... 88% 39.7M 0s\n",
      "  8200K .......... .......... .......... .......... .......... 88% 25.1M 0s\n",
      "  8250K .......... .......... .......... .......... .......... 89% 42.6M 0s\n",
      "  8300K .......... .......... .......... .......... .......... 89% 24.0M 0s\n",
      "  8350K .......... .......... .......... .......... .......... 90% 29.8M 0s\n",
      "  8400K .......... .......... .......... .......... .......... 91% 25.3M 0s\n",
      "  8450K .......... .......... .......... .......... .......... 91% 26.2M 0s\n",
      "  8500K .......... .......... .......... .......... .......... 92% 33.7M 0s\n",
      "  8550K .......... .......... .......... .......... .......... 92% 55.3M 0s\n",
      "  8600K .......... .......... .......... .......... .......... 93% 24.9M 0s\n",
      "  8650K .......... .......... .......... .......... .......... 93% 55.3M 0s\n",
      "  8700K .......... .......... .......... .......... .......... 94% 36.8M 0s\n",
      "  8750K .......... .......... .......... .......... .......... 94% 21.2M 0s\n",
      "  8800K .......... .......... .......... .......... .......... 95% 65.6M 0s\n",
      "  8850K .......... .......... .......... .......... .......... 95% 31.2M 0s\n",
      "  8900K .......... .......... .......... .......... .......... 96% 37.3M 0s\n",
      "  8950K .......... .......... .......... .......... .......... 96% 36.0M 0s\n",
      "  9000K .......... .......... .......... .......... .......... 97% 35.6M 0s\n",
      "  9050K .......... .......... .......... .......... .......... 98% 35.5M 0s\n",
      "  9100K .......... .......... .......... .......... .......... 98% 33.2M 0s\n",
      "  9150K .......... .......... .......... .......... .......... 99% 50.5M 0s\n",
      "  9200K .......... .......... .......... .......... .......... 99% 30.5M 0s\n",
      "  9250K .......... .......... .......... ...                  100%  133M=2.2s\n",
      "\n",
      "2022-09-01 01:41:52 (4.06 MB/s) - ‘apache-maven-3.6.3-bin.tar.gz’ saved [9506321/9506321]\n",
      "\n"
     ]
    }
   ],
   "source": [
    "%%bash\n",
    "wget https://mirrors.estointernet.in/apache/maven/maven-3/3.6.3/binaries/apache-maven-3.6.3-bin.tar.gz\n",
    "tar -xf apache-maven-3.6.3-bin.tar.gz\n",
    "sudo rm -rf /usr/bin/apache-maven-3.6.3\n",
    "sudo mv apache-maven-3.6.3 /usr/bin/"
   ]
  },
  {
   "cell_type": "code",
   "execution_count": 4,
   "id": "19ef1307-902e-4713-8948-b86084e19312",
   "metadata": {
    "collapsed": true,
    "jupyter": {
     "outputs_hidden": true
    }
   },
   "outputs": [],
   "source": [
    "import os\n",
    "import IPython\n",
    "if not os.getenv(\"IS_TESTING\"):\n",
    "    app = IPython.Application.instance()\n",
    "    app.kernel.do_shutdown(True)"
   ]
  },
  {
   "cell_type": "markdown",
   "id": "70d01e33-9099-4d2e-b57e-575c3a998d84",
   "metadata": {},
   "source": [
    "## Step 2: Import Libraries"
   ]
  },
  {
   "cell_type": "code",
   "execution_count": 1,
   "id": "2703b502-1b41-44f1-bf21-41069255bc32",
   "metadata": {
    "collapsed": true,
    "jupyter": {
     "outputs_hidden": true
    },
    "tags": []
   },
   "outputs": [],
   "source": [
    "import sqlalchemy\n",
    "import pymysql\n",
    "import google.cloud.aiplatform as aiplatform\n",
    "from kfp import dsl\n",
    "from kfp.v2 import compiler\n",
    "from datetime import datetime\n",
    "import time\n",
    "import copy\n",
    "import json\n",
    "import pandas as pd\n",
    "from google_cloud_pipeline_components.experimental.dataproc import DataprocSparkBatchOp"
   ]
  },
  {
   "cell_type": "markdown",
   "id": "09c4a209-db59-42f6-bba7-30cd46b16bad",
   "metadata": {},
   "source": [
    "## Step 3: Assign Parameters"
   ]
  },
  {
   "cell_type": "markdown",
   "id": "92d3fbd8-013f-45e6-b7e9-8f31a4580e91",
   "metadata": {},
   "source": [
    "### Step 3.1 Common Parameters\n",
    "\n",
    "##### PROJECT : GCP project-id\n",
    "##### REGION : GCP region\n",
    "##### GCS_STAGING_LOCATION : GCS staging location to be used for this notebook to store artifacts\n",
    "##### SUBNET : VPC subnet\n",
    "##### JARS : list of jars. For this notebook mysql connector and avro jar is required in addition with the dataproc template jars\n",
    "##### MAX_PARALLELISM : Parameter for number of jobs to run in parallel default value is 2"
   ]
  },
  {
   "cell_type": "code",
   "execution_count": 89,
   "id": "bd8f6dd9-2e13-447c-b28d-10fa2321b759",
   "metadata": {
    "collapsed": true,
    "jupyter": {
     "outputs_hidden": true
    },
    "tags": []
   },
   "outputs": [],
   "source": [
    "PROJECT = <\"project-id\">\n",
    "REGION = <\"region\"\"\n",
    "GCS_STAGING_LOCATION = <\"gs://bucket/[folder]\">\n",
    "SUBNET = <\"projects/{project}/regions/{region}/subnetworks/{subnet}\">\n",
    "MAX_PARALLELISM = 2 # default value is set to 2\n",
    "JARS = [GCS_STAGING_LOCATION + \"/jars/mysql-connector-java-8.0.29.jar\",\"file:///usr/lib/spark/external/spark-avro.jar\"]"
   ]
  },
  {
   "cell_type": "markdown",
   "id": "051df2af-bd8b-47c7-8cb2-05404ca0d859",
   "metadata": {},
   "source": [
    "### Step 3.2 MYSQL to GCS Parameters\n",
    "#### MYSQL_HOST : MYSQL instance ip address\n",
    "#### MYSQL_PORT : MySQL instance port\n",
    "#### MYSQL_USERNAME : MYSQL username\n",
    "#### MYSQL_PASSWORD : MYSQL password\n",
    "#### MYSQL_DATABASE : name of database that you want to migrate\n",
    "#### MYSQLTABLE_LIST : list of tables you want to migrate eg: ['table1','table2'] else provide an empty list for migration whole database eg : [] \n",
    "#### MYSQL_OUTPUT_GCS_LOCATION : gcs location where mysql output will be writtes eg :\"gs://bucket/[folder]\"\n",
    "#### MYSQL_OUTPUT_GCS_MODE : output mode for MYSQL data one of (overwrite|append)\n",
    "#### MYSQL_OUTPUT_GCS_FORMAT : output file formate for MYSQL data one of (avro|parquet|orc)"
   ]
  },
  {
   "cell_type": "code",
   "execution_count": 90,
   "id": "71dd2824-e9a0-4ceb-a3c9-32f79973432a",
   "metadata": {
    "collapsed": true,
    "jupyter": {
     "outputs_hidden": true
    },
    "tags": []
   },
   "outputs": [],
   "source": [
    "MYSQL_HOST = <\"host\">\n",
    "MYSQL_PORT = <\"port\">\n",
    "MYSQL_USERNAME = <\"username\">\n",
    "MYSQL_PASSWORD = <\"password\">\n",
    "MYSQL_DATABASE = <\"database\">\n",
    "MYSQLTABLE_LIST = [] # leave list empty for migrating complete database else provide tables as ['table1','table2']\n",
    "MYSQL_OUTPUT_GCS_LOCATION = <\"gs://bucket/[folder]\">\n",
    "MYSQL_OUTPUT_GCS_MODE = <\"mode\"> # one of overwrite|append\n",
    "MYSQL_OUTPUT_GCS_FORMAT = <\"format\"> # one of avro|parquet|orc"
   ]
  },
  {
   "cell_type": "markdown",
   "id": "918048e3-4e98-4a91-8f5c-7c2cf1da559c",
   "metadata": {},
   "source": [
    "### Step 3.3 GCS to SPANNER Parameters\n",
    "#### SPANNER_INSTANCE : cloud spanner instance name\n",
    "#### SPANNER_DATABASE : cloud spanner database name\n",
    "#### SPANNER_TABLE_PRIMARY_KEYS : provide dictionary of format {\"table_name\":\"primary_key\"} for tables which do not have primary key in MYSQL"
   ]
  },
  {
   "cell_type": "code",
   "execution_count": 91,
   "id": "9590468f-8782-4ccc-b2eb-62a9ea2599d9",
   "metadata": {
    "collapsed": true,
    "jupyter": {
     "outputs_hidden": true
    },
    "tags": []
   },
   "outputs": [],
   "source": [
    "SPANNER_INSTANCE = <\"instance\">\n",
    "SPANNER_DATABASE = <\"database\">\n",
    "SPANNER_TABLE_PRIMARY_KEYS = <{}> # provide table which do not have PK in MYSQL {\"table_name\":\"primary_key\"}"
   ]
  },
  {
   "cell_type": "markdown",
   "id": "166b1536-d58e-423b-b3c2-cc0c171d275e",
   "metadata": {},
   "source": [
    "### Step 3.4 Notebook Configuration Parameters\n",
    "Below variables shoulld not be changed unless required"
   ]
  },
  {
   "cell_type": "code",
   "execution_count": 92,
   "id": "c6f0f037-e888-4479-a143-f06a39bd5cc1",
   "metadata": {
    "collapsed": true,
    "jupyter": {
     "outputs_hidden": true
    },
    "tags": []
   },
   "outputs": [],
   "source": [
    "PYMYSQL_DRIVER = \"mysql+pymysql\"\n",
    "JDBC_DRIVER = \"com.mysql.cj.jdbc.Driver\"\n",
    "JDBC_URL = \"jdbc:mysql://{}:{}/{}?user={}&password={}\".format(MYSQL_HOST,MYSQL_PORT,MYSQL_DATABASE,MYSQL_USERNAME,MYSQL_PASSWORD)\n",
    "MAIN_CLASS = \"com.google.cloud.dataproc.templates.main.DataProcTemplate\"\n",
    "WORKING_DIRECTORY = \"/home/jupyter/dataproc-templates/java/\"\n",
    "JAR_FILE = \"dataproc-templates-1.0-SNAPSHOT.jar\"\n",
    "GRPC_JAR_PATH = \"./grpc_lb/io/grpc/grpc-grpclb/1.40.1\"\n",
    "GRPC_JAR = \"grpc-grpclb-1.40.1.jar\"\n",
    "LOG4J_PROPERTIES_PATH = \"./src/test/resources\"\n",
    "LOG4J_PROPERTIES = \"log4j-spark-driver-template.properties\"\n",
    "PIPELINE_ROOT = GCS_STAGING_LOCATION + \"/pipeline_root/dataproc_pyspark\"\n",
    "\n",
    "# adding dataproc template JAR and grpc jar\n",
    "JARS.append(GCS_STAGING_LOCATION + \"/\" + GRPC_JAR)\n",
    "JARS.append(GCS_STAGING_LOCATION + \"/\" + JAR_FILE)"
   ]
  },
  {
   "cell_type": "markdown",
   "id": "115c062b-5a91-4372-b440-5c37a12fbf87",
   "metadata": {},
   "source": [
    "## Step 4: Generate MySQL Table List\n",
    "This step creates list of tables for migration. If MYSQLTABLE_LIST is kept empty all the tables in the MYSQL_DATABASE are listed for migration otherwise the provided list is used"
   ]
  },
  {
   "cell_type": "code",
   "execution_count": 93,
   "id": "d0e362ac-30cd-4857-9e2a-0e9eb926e627",
   "metadata": {
    "collapsed": true,
    "jupyter": {
     "outputs_hidden": true
    },
    "tags": []
   },
   "outputs": [
    {
     "name": "stdout",
     "output_type": "stream",
     "text": [
      "list of tables for migration :\n",
      "['employees', 'employees_nop', 'employees_mup']\n"
     ]
    }
   ],
   "source": [
    "if len(MYSQLTABLE_LIST) == 0:\n",
    "    DB = sqlalchemy.create_engine(\n",
    "            sqlalchemy.engine.url.URL.create(\n",
    "                drivername=PYMYSQL_DRIVER,\n",
    "                username=MYSQL_USERNAME,\n",
    "                password=MYSQL_PASSWORD,\n",
    "                database=MYSQL_DATABASE,\n",
    "                host=MYSQL_HOST,\n",
    "                port=MYSQL_PORT\n",
    "              )\n",
    "            )\n",
    "    with DB.connect() as conn:\n",
    "        print(\"connected to database\")\n",
    "        results = DB.execute('show tables;').fetchall()\n",
    "        print(\"Total Tables = \", len(results))\n",
    "        for row in results:\n",
    "            TABLE_LIST.append(row[0])\n",
    "\n",
    "print(\"list of tables for migration :\")\n",
    "print(MYSQLTABLE_LIST)"
   ]
  },
  {
   "cell_type": "markdown",
   "id": "1d9a62e8-7499-41c6-b32b-73b539b0c7c4",
   "metadata": {},
   "source": [
    "## Step 5: Get Primary Keys for tables not present in SPANNER_TABLE_PRIMARY_KEYS\n",
    "For tables which do not have primary key provided in dictonary SPANNER_TABLE_PRIMARY_KEYS this step fetches primary key from MYSQL_DATABASE"
   ]
  },
  {
   "cell_type": "code",
   "execution_count": 94,
   "id": "6eda8fac-582c-4d4a-b871-311bb2863335",
   "metadata": {
    "collapsed": true,
    "jupyter": {
     "outputs_hidden": true
    },
    "tags": []
   },
   "outputs": [],
   "source": [
    "DB = sqlalchemy.create_engine(\n",
    "            sqlalchemy.engine.url.URL.create(\n",
    "                drivername=PYMYSQL_DRIVER,\n",
    "                username=MYSQL_USERNAME,\n",
    "                password=MYSQL_PASSWORD,\n",
    "                database=MYSQL_DATABASE,\n",
    "                host=MYSQL_HOST,\n",
    "                port=MYSQL_PORT\n",
    "              )\n",
    "            )\n",
    "with DB.connect() as conn:\n",
    "    for table in MYSQLTABLE_LIST:\n",
    "        primary_keys = []\n",
    "        if table not in SPANNER_TABLE_PRIMARY_KEYS:\n",
    "            results = DB.execute(\"SHOW KEYS FROM {} WHERE Key_name = 'PRIMARY'\".format(table)).fetchall()\n",
    "            for row in results:\n",
    "                primary_keys.append(row[4])\n",
    "            if primary_keys:\n",
    "                SPANNER_TABLE_PRIMARY_KEYS[table] = \",\".join(primary_keys)\n",
    "            else:\n",
    "                SPANNER_TABLE_PRIMARY_KEYS[table] = \"\""
   ]
  },
  {
   "cell_type": "code",
   "execution_count": 95,
   "id": "7c2a210f-48da-474f-bf46-89e755d01c67",
   "metadata": {
    "collapsed": true,
    "jupyter": {
     "outputs_hidden": true
    },
    "tags": []
   },
   "outputs": [
    {
     "name": "stdout",
     "output_type": "stream",
     "text": [
      "Below are identified primary keys for migrating mysql table to spanner:\n"
     ]
    },
    {
     "data": {
      "text/html": [
       "<div>\n",
       "<style scoped>\n",
       "    .dataframe tbody tr th:only-of-type {\n",
       "        vertical-align: middle;\n",
       "    }\n",
       "\n",
       "    .dataframe tbody tr th {\n",
       "        vertical-align: top;\n",
       "    }\n",
       "\n",
       "    .dataframe thead th {\n",
       "        text-align: right;\n",
       "    }\n",
       "</style>\n",
       "<table border=\"1\" class=\"dataframe\">\n",
       "  <thead>\n",
       "    <tr style=\"text-align: right;\">\n",
       "      <th></th>\n",
       "      <th>table</th>\n",
       "      <th>primary_keys</th>\n",
       "    </tr>\n",
       "  </thead>\n",
       "  <tbody>\n",
       "    <tr>\n",
       "      <th>0</th>\n",
       "      <td>employees</td>\n",
       "      <td>id</td>\n",
       "    </tr>\n",
       "    <tr>\n",
       "      <th>1</th>\n",
       "      <td>employees_nop</td>\n",
       "      <td>id</td>\n",
       "    </tr>\n",
       "    <tr>\n",
       "      <th>2</th>\n",
       "      <td>employees_mup</td>\n",
       "      <td>id,fname</td>\n",
       "    </tr>\n",
       "  </tbody>\n",
       "</table>\n",
       "</div>"
      ],
      "text/plain": [
       "           table primary_keys\n",
       "0      employees           id\n",
       "1  employees_nop           id\n",
       "2  employees_mup     id,fname"
      ]
     },
     "execution_count": 95,
     "metadata": {},
     "output_type": "execute_result"
    }
   ],
   "source": [
    "pkDF = pd.DataFrame({\"table\" : MYSQLTABLE_LIST, \"primary_keys\": list(SPANNER_TABLE_PRIMARY_KEYS.values())})\n",
    "print(\"Below are identified primary keys for migrating mysql table to spanner:\")\n",
    "pkDF"
   ]
  },
  {
   "cell_type": "markdown",
   "id": "1fa5f841-a687-4723-a8e6-6e7e752ba36e",
   "metadata": {},
   "source": [
    "## Step 6: Create JAR files and Upload to GCS\n",
    "#### Run Step 6 one time for each new notebook instance"
   ]
  },
  {
   "cell_type": "code",
   "execution_count": 96,
   "id": "22220ae3-9fb4-471c-b5aa-f606deeca15e",
   "metadata": {
    "collapsed": true,
    "jupyter": {
     "outputs_hidden": true
    },
    "tags": []
   },
   "outputs": [
    {
     "name": "stdout",
     "output_type": "stream",
     "text": [
      "/home/jupyter/dataproc-templates/java\n"
     ]
    }
   ],
   "source": [
    "%cd $WORKING_DIRECTORY"
   ]
  },
  {
   "cell_type": "code",
   "execution_count": 97,
   "id": "4b40f634-1983-4267-a4c1-b072bf6d81ae",
   "metadata": {
    "collapsed": true,
    "jupyter": {
     "outputs_hidden": true
    },
    "tags": []
   },
   "outputs": [
    {
     "name": "stdout",
     "output_type": "stream",
     "text": [
      "Hit:1 http://packages.cloud.google.com/apt cloud-sdk-buster InRelease\n",
      "Hit:2 http://deb.debian.org/debian buster InRelease\n",
      "Hit:3 http://security.debian.org/debian-security buster/updates InRelease\n",
      "Get:4 http://deb.debian.org/debian buster-updates InRelease [56.6 kB]\n",
      "Get:5 http://deb.debian.org/debian buster-backports InRelease [51.4 kB]\n",
      "Hit:7 https://download.docker.com/linux/debian buster InRelease\n",
      "Hit:6 https://packages.cloud.google.com/apt kubernetes-xenial InRelease\n",
      "Hit:8 http://packages.cloud.google.com/apt google-cloud-packages-archive-keyring-buster InRelease\n",
      "Hit:9 http://packages.cloud.google.com/apt gcsfuse-buster InRelease\n",
      "Hit:10 http://packages.cloud.google.com/apt google-compute-engine-buster-stable InRelease\n",
      "Fetched 108 kB in 1s (95.0 kB/s)\n",
      "Reading package lists...\n",
      "Reading package lists...\n",
      "Building dependency tree...\n",
      "Reading state information...\n",
      "default-jdk is already the newest version (2:1.11-71).\n",
      "0 upgraded, 0 newly installed, 0 to remove and 1 not upgraded.\n",
      "[INFO] Scanning for projects...\n",
      "[WARNING] \n",
      "[WARNING] Some problems were encountered while building the effective model for com.google.cloud:dataproc-templates:jar:1.0-SNAPSHOT\n",
      "[WARNING] 'build.plugins.plugin.version' for org.apache.maven.plugins:maven-shade-plugin is missing. @ line 291, column 15\n",
      "[WARNING] \n",
      "[WARNING] It is highly recommended to fix these problems because they threaten the stability of your build.\n",
      "[WARNING] \n",
      "[WARNING] For this reason, future Maven versions might no longer support building such malformed projects.\n",
      "[WARNING] \n",
      "[INFO] \n",
      "[INFO] ----------------< com.google.cloud:dataproc-templates >-----------------\n",
      "[INFO] Building dataproc-templates 1.0-SNAPSHOT\n",
      "[INFO] --------------------------------[ jar ]---------------------------------\n",
      "[INFO] \n",
      "[INFO] --- maven-clean-plugin:2.5:clean (default-clean) @ dataproc-templates ---\n",
      "[INFO] Deleting /home/jupyter/dataproc-templates/java/target\n",
      "[INFO] \n",
      "[INFO] --- spotless-maven-plugin:2.1.0:apply (default-cli) @ dataproc-templates ---\n",
      "[INFO] \n",
      "[INFO] --- jacoco-maven-plugin:0.8.8:prepare-agent (prepare-agent) @ dataproc-templates ---\n",
      "[INFO] argLine set to -javaagent:/home/jupyter/.m2/repository/org/jacoco/org.jacoco.agent/0.8.8/org.jacoco.agent-0.8.8-runtime.jar=destfile=/home/jupyter/dataproc-templates/java/target/jacoco.exec\n",
      "[INFO] \n",
      "[INFO] --- maven-resources-plugin:2.6:resources (default-resources) @ dataproc-templates ---\n",
      "[WARNING] Using platform encoding (UTF-8 actually) to copy filtered resources, i.e. build is platform dependent!\n",
      "[INFO] Copying 4 resources\n",
      "[INFO] \n",
      "[INFO] --- maven-compiler-plugin:3.1:compile (default-compile) @ dataproc-templates ---\n",
      "[INFO] Changes detected - recompiling the module!\n",
      "[WARNING] File encoding has not been set, using platform encoding UTF-8, i.e. build is platform dependent!\n",
      "[INFO] Compiling 34 source files to /home/jupyter/dataproc-templates/java/target/classes\n",
      "[WARNING] /home/jupyter/dataproc-templates/java/src/main/java/com/google/cloud/dataproc/templates/general/GeneralTemplate.java: Some input files use or override a deprecated API.\n",
      "[WARNING] /home/jupyter/dataproc-templates/java/src/main/java/com/google/cloud/dataproc/templates/general/GeneralTemplate.java: Recompile with -Xlint:deprecation for details.\n",
      "[WARNING] /home/jupyter/dataproc-templates/java/src/main/java/com/google/cloud/dataproc/templates/dataplex/DataplexGCStoBQ.java: /home/jupyter/dataproc-templates/java/src/main/java/com/google/cloud/dataproc/templates/dataplex/DataplexGCStoBQ.java uses unchecked or unsafe operations.\n",
      "[WARNING] /home/jupyter/dataproc-templates/java/src/main/java/com/google/cloud/dataproc/templates/dataplex/DataplexGCStoBQ.java: Recompile with -Xlint:unchecked for details.\n",
      "[INFO] \n",
      "[INFO] --- maven-resources-plugin:2.6:testResources (default-testResources) @ dataproc-templates ---\n",
      "[WARNING] Using platform encoding (UTF-8 actually) to copy filtered resources, i.e. build is platform dependent!\n",
      "[INFO] Copying 1 resource\n",
      "[INFO] \n",
      "[INFO] --- maven-compiler-plugin:3.1:testCompile (default-testCompile) @ dataproc-templates ---\n",
      "[INFO] Changes detected - recompiling the module!\n",
      "[WARNING] File encoding has not been set, using platform encoding UTF-8, i.e. build is platform dependent!\n",
      "[INFO] Compiling 20 source files to /home/jupyter/dataproc-templates/java/target/test-classes\n",
      "[INFO] \n",
      "[INFO] --- maven-surefire-plugin:3.0.0-M5:test (default-test) @ dataproc-templates ---\n",
      "[INFO] Tests are skipped.\n",
      "[INFO] \n",
      "[INFO] --- jacoco-maven-plugin:0.8.8:report (report) @ dataproc-templates ---\n",
      "[INFO] Skipping JaCoCo execution due to missing execution data file.\n",
      "[INFO] \n",
      "[INFO] --- maven-jar-plugin:2.4:jar (default-jar) @ dataproc-templates ---\n",
      "[INFO] Building jar: /home/jupyter/dataproc-templates/java/target/dataproc-templates-1.0-SNAPSHOT.jar\n",
      "[INFO] \n",
      "[INFO] --- maven-shade-plugin:3.3.0:shade (default) @ dataproc-templates ---\n",
      "[INFO] Including org.apache.avro:avro:jar:1.10.2 in the shaded jar.\n",
      "[INFO] Including org.apache.hadoop:hadoop-client-api:jar:3.3.1 in the shaded jar.\n",
      "[INFO] Including org.apache.hadoop:hadoop-client-runtime:jar:3.3.1 in the shaded jar.\n",
      "[INFO] Including org.apache.curator:curator-recipes:jar:2.13.0 in the shaded jar.\n",
      "[INFO] Including org.apache.curator:curator-framework:jar:2.13.0 in the shaded jar.\n",
      "[INFO] Including org.apache.zookeeper:zookeeper:jar:3.6.2 in the shaded jar.\n",
      "[INFO] Including commons-lang:commons-lang:jar:2.6 in the shaded jar.\n",
      "[INFO] Including org.apache.zookeeper:zookeeper-jute:jar:3.6.2 in the shaded jar.\n",
      "[INFO] Including commons-codec:commons-codec:jar:1.15 in the shaded jar.\n",
      "[INFO] Including org.apache.commons:commons-lang3:jar:3.12.0 in the shaded jar.\n",
      "[INFO] Including org.apache.commons:commons-math3:jar:3.4.1 in the shaded jar.\n",
      "[INFO] Including org.apache.commons:commons-text:jar:1.6 in the shaded jar.\n",
      "[INFO] Including commons-io:commons-io:jar:2.8.0 in the shaded jar.\n",
      "[INFO] Including commons-collections:commons-collections:jar:3.2.2 in the shaded jar.\n",
      "[INFO] Including com.google.code.findbugs:jsr305:jar:3.0.0 in the shaded jar.\n",
      "[INFO] Including org.xerial.snappy:snappy-java:jar:1.1.8.4 in the shaded jar.\n",
      "[INFO] Including org.lz4:lz4-java:jar:1.7.1 in the shaded jar.\n",
      "[INFO] Including commons-net:commons-net:jar:3.1 in the shaded jar.\n",
      "[INFO] Including org.scala-lang:scala-library:jar:2.12.15 in the shaded jar.\n",
      "[INFO] Including org.apache.spark:spark-tags_2.12:jar:3.2.0 in the shaded jar.\n",
      "[INFO] Including org.spark-project.spark:unused:jar:1.0.0 in the shaded jar.\n",
      "[INFO] Including javax.xml.bind:jaxb-api:jar:2.2.11 in the shaded jar.\n",
      "[INFO] Including ch.qos.logback:logback-classic:jar:1.2.6 in the shaded jar.\n",
      "[INFO] Including ch.qos.logback:logback-core:jar:1.2.6 in the shaded jar.\n",
      "[INFO] Including org.apache.httpcomponents:httpclient:jar:4.5.13 in the shaded jar.\n",
      "[INFO] Including org.codehaus.jackson:jackson-mapper-asl:jar:1.9.13 in the shaded jar.\n",
      "[INFO] Including org.codehaus.jackson:jackson-core-asl:jar:1.9.13 in the shaded jar.\n",
      "[INFO] Including joda-time:joda-time:jar:2.10.10 in the shaded jar.\n",
      "[INFO] Including org.apache.bahir:spark-streaming-pubsub_2.12:jar:2.4.0 in the shaded jar.\n",
      "[INFO] Including com.google.apis:google-api-services-pubsub:jar:v1-rev355-1.22.0 in the shaded jar.\n",
      "[INFO] Including com.google.cloud.bigdataoss:util:jar:1.6.0 in the shaded jar.\n",
      "[INFO] Including com.google.api-client:google-api-client-java6:jar:1.20.0 in the shaded jar.\n",
      "[INFO] Including com.google.api-client:google-api-client-jackson2:jar:1.20.0 in the shaded jar.\n",
      "[INFO] Including com.google.oauth-client:google-oauth-client-java6:jar:1.20.0 in the shaded jar.\n",
      "[INFO] Including com.google.http-client:google-http-client-jackson:jar:1.22.0 in the shaded jar.\n",
      "[INFO] Including org.apache.spark:spark-sql-kafka-0-10_2.12:jar:3.2.0 in the shaded jar.\n",
      "[INFO] Including org.apache.spark:spark-token-provider-kafka-0-10_2.12:jar:3.2.0 in the shaded jar.\n",
      "[INFO] Including org.apache.kafka:kafka-clients:jar:2.8.0 in the shaded jar.\n",
      "[INFO] Including org.apache.commons:commons-pool2:jar:2.6.2 in the shaded jar.\n",
      "[INFO] Including com.google.oauth-client:google-oauth-client:jar:1.33.3 in the shaded jar.\n",
      "[INFO] Including com.google.http-client:google-http-client:jar:1.41.7 in the shaded jar.\n",
      "[INFO] Including com.google.http-client:google-http-client-gson:jar:1.41.7 in the shaded jar.\n",
      "[INFO] Including com.google.guava:guava:jar:31.1-android in the shaded jar.\n",
      "[INFO] Including com.google.api-client:google-api-client:jar:1.32.1 in the shaded jar.\n",
      "[INFO] Including com.google.http-client:google-http-client-apache-v2:jar:1.39.2 in the shaded jar.\n",
      "[INFO] Including org.apache.httpcomponents:httpcore:jar:4.4.14 in the shaded jar.\n",
      "[INFO] Including com.google.cloud.spark:spark-bigquery-with-dependencies_2.12:jar:0.22.0 in the shaded jar.\n",
      "[INFO] Including com.google.cloud:google-cloud-spanner-jdbc:jar:2.4.2 in the shaded jar.\n",
      "[INFO] Including com.google.j2objc:j2objc-annotations:jar:1.3 in the shaded jar.\n",
      "[INFO] Including io.opencensus:opencensus-api:jar:0.28.0 in the shaded jar.\n",
      "[INFO] Including io.opencensus:opencensus-contrib-http-util:jar:0.28.0 in the shaded jar.\n",
      "[INFO] Including io.grpc:grpc-api:jar:1.40.1 in the shaded jar.\n",
      "[INFO] Including io.grpc:grpc-context:jar:1.40.1 in the shaded jar.\n",
      "[INFO] Including com.google.cloud:google-cloud-core-grpc:jar:2.1.2 in the shaded jar.\n",
      "[INFO] Including com.google.api:gax:jar:2.4.0 in the shaded jar.\n",
      "[INFO] Including com.google.api:gax-grpc:jar:2.4.0 in the shaded jar.\n",
      "[INFO] Including io.grpc:grpc-core:jar:1.40.1 in the shaded jar.\n",
      "[INFO] Including com.google.api.grpc:proto-google-common-protos:jar:2.5.0 in the shaded jar.\n",
      "[INFO] Including com.google.cloud:google-cloud-spanner:jar:6.12.2 in the shaded jar.\n",
      "[INFO] Including com.google.cloud:grpc-gcp:jar:1.1.0 in the shaded jar.\n",
      "[INFO] Including io.grpc:grpc-auth:jar:1.40.1 in the shaded jar.\n",
      "[INFO] Including com.google.android:annotations:jar:4.1.1.4 in the shaded jar.\n",
      "[INFO] Including org.codehaus.mojo:animal-sniffer-annotations:jar:1.20 in the shaded jar.\n",
      "[INFO] Including io.perfmark:perfmark-api:jar:0.23.0 in the shaded jar.\n",
      "[INFO] Including io.grpc:grpc-protobuf:jar:1.40.1 in the shaded jar.\n",
      "[INFO] Including io.grpc:grpc-protobuf-lite:jar:1.40.1 in the shaded jar.\n",
      "[INFO] Including io.grpc:grpc-stub:jar:1.40.1 in the shaded jar.\n",
      "[INFO] Including javax.annotation:javax.annotation-api:jar:1.3.2 in the shaded jar.\n",
      "[INFO] Including com.google.auto.value:auto-value-annotations:jar:1.8.2 in the shaded jar.\n",
      "[INFO] Including com.google.protobuf:protobuf-java-util:jar:3.17.3 in the shaded jar.\n",
      "[INFO] Including com.google.errorprone:error_prone_annotations:jar:2.9.0 in the shaded jar.\n",
      "[INFO] Including com.google.api.grpc:grpc-google-common-protos:jar:2.5.0 in the shaded jar.\n",
      "[INFO] Including com.google.guava:failureaccess:jar:1.0.1 in the shaded jar.\n",
      "[INFO] Including com.google.guava:listenablefuture:jar:9999.0-empty-to-avoid-conflict-with-guava in the shaded jar.\n",
      "[INFO] Including org.checkerframework:checker-compat-qual:jar:2.5.5 in the shaded jar.\n",
      "[INFO] Including com.google.api.grpc:proto-google-iam-v1:jar:1.1.0 in the shaded jar.\n",
      "[INFO] Including io.opencensus:opencensus-contrib-grpc-util:jar:0.28.0 in the shaded jar.\n",
      "[INFO] Including commons-logging:commons-logging:jar:1.2 in the shaded jar.\n",
      "[INFO] Including com.google.api.grpc:proto-google-cloud-spanner-admin-instance-v1:jar:6.12.2 in the shaded jar.\n",
      "[INFO] Including com.google.api.grpc:proto-google-cloud-spanner-admin-database-v1:jar:6.12.2 in the shaded jar.\n",
      "[INFO] Including com.google.api.grpc:grpc-google-cloud-spanner-admin-instance-v1:jar:6.12.2 in the shaded jar.\n",
      "[INFO] Including com.google.api.grpc:grpc-google-cloud-spanner-v1:jar:6.12.2 in the shaded jar.\n",
      "[INFO] Including com.google.api.grpc:grpc-google-cloud-spanner-admin-database-v1:jar:6.12.2 in the shaded jar.\n",
      "[INFO] Including org.checkerframework:checker-qual:jar:3.8.0 in the shaded jar.\n",
      "[INFO] Including com.google.code.gson:gson:jar:2.8.8 in the shaded jar.\n",
      "[INFO] Including io.grpc:grpc-grpclb:jar:1.40.1 in the shaded jar.\n",
      "[INFO] Including org.conscrypt:conscrypt-openjdk-uber:jar:2.5.1 in the shaded jar.\n",
      "[INFO] Including io.grpc:grpc-alts:jar:1.40.1 in the shaded jar.\n",
      "[INFO] Including com.google.protobuf:protobuf-java:jar:3.17.3 in the shaded jar.\n",
      "[INFO] Including org.threeten:threetenbp:jar:1.5.1 in the shaded jar.\n",
      "[INFO] Including io.grpc:grpc-netty-shaded:jar:1.40.1 in the shaded jar.\n",
      "[INFO] Including com.google.api:api-common:jar:2.0.2 in the shaded jar.\n",
      "[INFO] Including com.google.auth:google-auth-library-oauth2-http:jar:1.1.0 in the shaded jar.\n",
      "[INFO] Including com.google.auth:google-auth-library-credentials:jar:1.1.0 in the shaded jar.\n",
      "[INFO] Including com.google.cloud:google-cloud-core:jar:2.1.2 in the shaded jar.\n",
      "[INFO] Including com.google.api.grpc:proto-google-cloud-spanner-v1:jar:6.12.2 in the shaded jar.\n",
      "[INFO] Including org.apache.hadoop:hadoop-aws:jar:2.7.3 in the shaded jar.\n",
      "[INFO] Including com.amazonaws:aws-java-sdk:jar:1.7.4 in the shaded jar.\n",
      "[INFO] Including org.apache.yetus:audience-annotations:jar:0.5.0 in the shaded jar.\n",
      "[INFO] Including org.apache.htrace:htrace-core4:jar:4.2.0-incubating in the shaded jar.\n",
      "[INFO] Including org.apache.hadoop:hadoop-auth:jar:2.8.5 in the shaded jar.\n",
      "[INFO] Including com.nimbusds:nimbus-jose-jwt:jar:4.41.1 in the shaded jar.\n",
      "[INFO] Including com.github.stephenc.jcip:jcip-annotations:jar:1.0-1 in the shaded jar.\n",
      "[INFO] Including org.apache.directory.server:apacheds-kerberos-codec:jar:2.0.0-M15 in the shaded jar.\n",
      "[INFO] Including org.apache.directory.server:apacheds-i18n:jar:2.0.0-M15 in the shaded jar.\n",
      "[INFO] Including org.apache.directory.api:api-asn1-api:jar:1.0.0-M20 in the shaded jar.\n",
      "[INFO] Including org.apache.directory.api:api-util:jar:1.0.0-M20 in the shaded jar.\n",
      "[INFO] Including org.apache.logging.log4j:log4j-api:jar:2.17.1 in the shaded jar.\n",
      "[INFO] Including org.apache.logging.log4j:log4j-core:jar:2.17.1 in the shaded jar.\n",
      "[INFO] Including org.slf4j:slf4j-api:jar:1.7.33 in the shaded jar.\n",
      "[INFO] Including org.slf4j:slf4j-log4j12:jar:1.7.33 in the shaded jar.\n",
      "[INFO] Including log4j:log4j:jar:1.2.17 in the shaded jar.\n",
      "[INFO] Including com.fasterxml.jackson.core:jackson-core:jar:2.12.6 in the shaded jar.\n",
      "[INFO] Including com.fasterxml.jackson.core:jackson-databind:jar:2.12.6.1 in the shaded jar.\n",
      "[INFO] Including com.fasterxml.jackson.dataformat:jackson-dataformat-yaml:jar:2.12.6 in the shaded jar.\n",
      "[INFO] Including org.yaml:snakeyaml:jar:1.27 in the shaded jar.\n",
      "[INFO] Including com.fasterxml.jackson.core:jackson-annotations:jar:2.12.6 in the shaded jar.\n",
      "[INFO] Including org.hibernate.validator:hibernate-validator:jar:7.0.1.Final in the shaded jar.\n",
      "[INFO] Including jakarta.validation:jakarta.validation-api:jar:3.0.0 in the shaded jar.\n",
      "[INFO] Including org.jboss.logging:jboss-logging:jar:3.4.1.Final in the shaded jar.\n",
      "[INFO] Including com.fasterxml:classmate:jar:1.5.1 in the shaded jar.\n",
      "[INFO] Including org.glassfish:jakarta.el:jar:4.0.0 in the shaded jar.\n",
      "[INFO] Including jakarta.el:jakarta.el-api:jar:4.0.0 in the shaded jar.\n",
      "[INFO] Including org.hibernate.validator:hibernate-validator-cdi:jar:7.0.1.Final in the shaded jar.\n",
      "[INFO] Including org.apache.hadoop:hadoop-common:jar:3.2.3 in the shaded jar.\n",
      "[INFO] Including org.apache.hadoop:hadoop-annotations:jar:3.2.3 in the shaded jar.\n",
      "[INFO] Including javax.servlet:javax.servlet-api:jar:3.1.0 in the shaded jar.\n",
      "[INFO] Including javax.activation:javax.activation-api:jar:1.2.0 in the shaded jar.\n",
      "[INFO] Including org.eclipse.jetty:jetty-server:jar:9.4.40.v20210413 in the shaded jar.\n",
      "[INFO] Including org.eclipse.jetty:jetty-http:jar:9.4.40.v20210413 in the shaded jar.\n",
      "[INFO] Including org.eclipse.jetty:jetty-io:jar:9.4.40.v20210413 in the shaded jar.\n",
      "[INFO] Including org.eclipse.jetty:jetty-util:jar:9.4.40.v20210413 in the shaded jar.\n",
      "[INFO] Including org.eclipse.jetty:jetty-servlet:jar:9.4.40.v20210413 in the shaded jar.\n",
      "[INFO] Including org.eclipse.jetty:jetty-security:jar:9.4.40.v20210413 in the shaded jar.\n",
      "[INFO] Including org.eclipse.jetty:jetty-util-ajax:jar:9.4.40.v20210413 in the shaded jar.\n",
      "[INFO] Including org.eclipse.jetty:jetty-webapp:jar:9.4.40.v20210413 in the shaded jar.\n",
      "[INFO] Including org.eclipse.jetty:jetty-xml:jar:9.4.40.v20210413 in the shaded jar.\n",
      "[INFO] Including javax.servlet.jsp:jsp-api:jar:2.1 in the shaded jar.\n",
      "[INFO] Including com.sun.jersey:jersey-core:jar:1.19 in the shaded jar.\n",
      "[INFO] Including javax.ws.rs:jsr311-api:jar:1.1.1 in the shaded jar.\n",
      "[INFO] Including com.sun.jersey:jersey-servlet:jar:1.19 in the shaded jar.\n",
      "[INFO] Including com.sun.jersey:jersey-json:jar:1.19 in the shaded jar.\n",
      "[INFO] Including org.codehaus.jettison:jettison:jar:1.1 in the shaded jar.\n",
      "[INFO] Including com.sun.xml.bind:jaxb-impl:jar:2.2.3-1 in the shaded jar.\n",
      "[INFO] Including org.codehaus.jackson:jackson-jaxrs:jar:1.9.2 in the shaded jar.\n",
      "[INFO] Including org.codehaus.jackson:jackson-xc:jar:1.9.2 in the shaded jar.\n",
      "[INFO] Including com.sun.jersey:jersey-server:jar:1.19 in the shaded jar.\n",
      "[INFO] Including commons-beanutils:commons-beanutils:jar:1.9.4 in the shaded jar.\n",
      "[INFO] Including org.apache.commons:commons-configuration2:jar:2.1.1 in the shaded jar.\n",
      "[INFO] Including com.google.re2j:re2j:jar:1.1 in the shaded jar.\n",
      "[INFO] Including com.jcraft:jsch:jar:0.1.55 in the shaded jar.\n",
      "[INFO] Including org.apache.curator:curator-client:jar:2.13.0 in the shaded jar.\n",
      "[INFO] Including org.apache.commons:commons-compress:jar:1.21 in the shaded jar.\n",
      "[INFO] Including org.apache.kerby:kerb-simplekdc:jar:1.0.1 in the shaded jar.\n",
      "[INFO] Including org.apache.kerby:kerb-client:jar:1.0.1 in the shaded jar.\n",
      "[INFO] Including org.apache.kerby:kerby-config:jar:1.0.1 in the shaded jar.\n",
      "[INFO] Including org.apache.kerby:kerb-core:jar:1.0.1 in the shaded jar.\n",
      "[INFO] Including org.apache.kerby:kerby-pkix:jar:1.0.1 in the shaded jar.\n",
      "[INFO] Including org.apache.kerby:kerby-asn1:jar:1.0.1 in the shaded jar.\n",
      "[INFO] Including org.apache.kerby:kerby-util:jar:1.0.1 in the shaded jar.\n",
      "[INFO] Including org.apache.kerby:kerb-common:jar:1.0.1 in the shaded jar.\n",
      "[INFO] Including org.apache.kerby:kerb-crypto:jar:1.0.1 in the shaded jar.\n",
      "[INFO] Including org.apache.kerby:kerb-util:jar:1.0.1 in the shaded jar.\n",
      "[INFO] Including org.apache.kerby:token-provider:jar:1.0.1 in the shaded jar.\n",
      "[INFO] Including org.apache.kerby:kerb-admin:jar:1.0.1 in the shaded jar.\n",
      "[INFO] Including org.apache.kerby:kerb-server:jar:1.0.1 in the shaded jar.\n",
      "[INFO] Including org.apache.kerby:kerb-identity:jar:1.0.1 in the shaded jar.\n",
      "[INFO] Including org.apache.kerby:kerby-xdr:jar:1.0.1 in the shaded jar.\n",
      "[INFO] Including org.codehaus.woodstox:stax2-api:jar:4.2.1 in the shaded jar.\n",
      "[INFO] Including com.fasterxml.woodstox:woodstox-core:jar:5.3.0 in the shaded jar.\n",
      "[INFO] Including dnsjava:dnsjava:jar:2.1.7 in the shaded jar.\n",
      "[INFO] Including com.google.cloud:google-cloud-storage:jar:2.4.5 in the shaded jar.\n",
      "[INFO] Including com.google.http-client:google-http-client-jackson2:jar:1.41.4 in the shaded jar.\n",
      "[INFO] Including com.google.apis:google-api-services-storage:jar:v1-rev20220210-1.32.1 in the shaded jar.\n",
      "[INFO] Including com.google.cloud:google-cloud-core-http:jar:2.5.6 in the shaded jar.\n",
      "[INFO] Including com.google.http-client:google-http-client-appengine:jar:1.41.4 in the shaded jar.\n",
      "[INFO] Including com.google.api:gax-httpjson:jar:0.97.2 in the shaded jar.\n",
      "[INFO] Including org.json:json:jar:20211205 in the shaded jar.\n",
      "[INFO] Including commons-cli:commons-cli:jar:1.5.0 in the shaded jar.\n",
      "[INFO] Dependency-reduced POM written at: /home/jupyter/dataproc-templates/java/dependency-reduced-pom.xml\n",
      "[WARNING] Discovered module-info.class. Shading will break its strong encapsulation.\n",
      "[WARNING] Discovered module-info.class. Shading will break its strong encapsulation.\n",
      "[WARNING] Discovered module-info.class. Shading will break its strong encapsulation.\n",
      "[WARNING] Discovered module-info.class. Shading will break its strong encapsulation.\n",
      "[WARNING] Discovered module-info.class. Shading will break its strong encapsulation.\n",
      "[WARNING] Discovered module-info.class. Shading will break its strong encapsulation.\n",
      "[WARNING] Discovered module-info.class. Shading will break its strong encapsulation.\n",
      "[WARNING] apacheds-i18n-2.0.0-M15.jar, apacheds-kerberos-codec-2.0.0-M15.jar, api-asn1-api-1.0.0-M20.jar, api-util-1.0.0-M20.jar, audience-annotations-0.5.0.jar, avro-1.10.2.jar, curator-client-2.13.0.jar, curator-framework-2.13.0.jar, curator-recipes-2.13.0.jar, hadoop-client-runtime-3.3.1.jar, htrace-core4-4.2.0-incubating.jar, httpclient-4.5.13.jar, httpcore-4.4.14.jar, kerb-admin-1.0.1.jar, kerb-client-1.0.1.jar, kerb-common-1.0.1.jar, kerb-core-1.0.1.jar, kerb-crypto-1.0.1.jar, kerb-identity-1.0.1.jar, kerb-server-1.0.1.jar, kerb-simplekdc-1.0.1.jar, kerb-util-1.0.1.jar, kerby-asn1-1.0.1.jar, kerby-config-1.0.1.jar, kerby-pkix-1.0.1.jar, kerby-util-1.0.1.jar, kerby-xdr-1.0.1.jar, log4j-api-2.17.1.jar, log4j-core-2.17.1.jar, spark-sql-kafka-0-10_2.12-3.2.0.jar, spark-streaming-pubsub_2.12-2.4.0.jar, spark-tags_2.12-3.2.0.jar, spark-token-provider-kafka-0-10_2.12-3.2.0.jar, token-provider-1.0.1.jar define 1 overlapping resource: \n",
      "[WARNING]   - META-INF/DEPENDENCIES\n",
      "[WARNING] hadoop-client-runtime-3.3.1.jar, jakarta.el-4.0.0.jar, jakarta.el-api-4.0.0.jar define 2 overlapping resources: \n",
      "[WARNING]   - META-INF/LICENSE.md\n",
      "[WARNING]   - META-INF/NOTICE.md\n",
      "[WARNING] hadoop-client-runtime-3.3.1.jar, woodstox-core-5.3.0.jar define 3 overlapping resources: \n",
      "[WARNING]   - META-INF/services/javax.xml.stream.XMLEventFactory\n",
      "[WARNING]   - META-INF/services/javax.xml.stream.XMLInputFactory\n",
      "[WARNING]   - META-INF/services/javax.xml.stream.XMLOutputFactory\n",
      "[WARNING] jetty-http-9.4.40.v20210413.jar, jetty-io-9.4.40.v20210413.jar, jetty-security-9.4.40.v20210413.jar, jetty-server-9.4.40.v20210413.jar, jetty-servlet-9.4.40.v20210413.jar, jetty-util-9.4.40.v20210413.jar, jetty-util-ajax-9.4.40.v20210413.jar, jetty-webapp-9.4.40.v20210413.jar, jetty-xml-9.4.40.v20210413.jar define 1 overlapping resource: \n",
      "[WARNING]   - about.html\n",
      "[WARNING] dnsjava-2.1.7.jar, hadoop-client-runtime-3.3.1.jar define 1 overlapping resource: \n",
      "[WARNING]   - META-INF/services/sun.net.spi.nameservice.NameServiceDescriptor\n",
      "[WARNING] hadoop-client-api-3.3.1.jar, hadoop-common-3.2.3.jar define 2322 overlapping classes and resources: \n",
      "[WARNING]   - META-INF/services/org.apache.hadoop.crypto.key.KeyProviderFactory\n",
      "[WARNING]   - META-INF/services/org.apache.hadoop.io.compress.CompressionCodec\n",
      "[WARNING]   - META-INF/services/org.apache.hadoop.io.erasurecode.rawcoder.RawErasureCoderFactory\n",
      "[WARNING]   - META-INF/services/org.apache.hadoop.security.SecurityInfo\n",
      "[WARNING]   - META-INF/services/org.apache.hadoop.security.alias.CredentialProviderFactory\n",
      "[WARNING]   - META-INF/services/org.apache.hadoop.security.token.TokenIdentifier\n",
      "[WARNING]   - META-INF/services/org.apache.hadoop.security.token.TokenRenewer\n",
      "[WARNING]   - common-version-info.properties\n",
      "[WARNING]   - core-default.xml\n",
      "[WARNING]   - org.apache.hadoop.HadoopIllegalArgumentException\n",
      "[WARNING]   - 2312 more...\n",
      "[WARNING] spark-bigquery-with-dependencies_2.12-0.22.0.jar, threetenbp-1.5.1.jar define 1 overlapping resource: \n",
      "[WARNING]   - META-INF/proguard/org.threeten.bp.pro\n",
      "[WARNING] apacheds-i18n-2.0.0-M15.jar, apacheds-kerberos-codec-2.0.0-M15.jar, api-asn1-api-1.0.0-M20.jar, api-util-1.0.0-M20.jar, audience-annotations-0.5.0.jar, avro-1.10.2.jar, classmate-1.5.1.jar, curator-client-2.13.0.jar, curator-framework-2.13.0.jar, curator-recipes-2.13.0.jar, htrace-core4-4.2.0-incubating.jar, httpclient-4.5.13.jar, httpcore-4.4.14.jar, jackson-annotations-2.12.6.jar, jackson-core-2.12.6.jar, jackson-core-asl-1.9.13.jar, jackson-databind-2.12.6.1.jar, jackson-dataformat-yaml-2.12.6.jar, jackson-jaxrs-1.9.2.jar, jackson-mapper-asl-1.9.13.jar, jackson-xc-1.9.2.jar, jettison-1.1.jar, jetty-http-9.4.40.v20210413.jar, jetty-io-9.4.40.v20210413.jar, jetty-security-9.4.40.v20210413.jar, jetty-server-9.4.40.v20210413.jar, jetty-servlet-9.4.40.v20210413.jar, jetty-util-9.4.40.v20210413.jar, jetty-util-ajax-9.4.40.v20210413.jar, jetty-webapp-9.4.40.v20210413.jar, jetty-xml-9.4.40.v20210413.jar, kerb-admin-1.0.1.jar, kerb-client-1.0.1.jar, kerb-common-1.0.1.jar, kerb-core-1.0.1.jar, kerb-crypto-1.0.1.jar, kerb-identity-1.0.1.jar, kerb-server-1.0.1.jar, kerb-simplekdc-1.0.1.jar, kerb-util-1.0.1.jar, kerby-asn1-1.0.1.jar, kerby-config-1.0.1.jar, kerby-pkix-1.0.1.jar, kerby-util-1.0.1.jar, kerby-xdr-1.0.1.jar, log4j-1.2.17.jar, log4j-api-2.17.1.jar, log4j-core-2.17.1.jar, spark-sql-kafka-0-10_2.12-3.2.0.jar, spark-streaming-pubsub_2.12-2.4.0.jar, spark-tags_2.12-3.2.0.jar, spark-token-provider-kafka-0-10_2.12-3.2.0.jar, stax2-api-4.2.1.jar, token-provider-1.0.1.jar, woodstox-core-5.3.0.jar define 1 overlapping resource: \n",
      "[WARNING]   - META-INF/LICENSE\n",
      "[WARNING] hadoop-annotations-3.2.3.jar, hadoop-client-api-3.3.1.jar define 16 overlapping classes: \n",
      "[WARNING]   - org.apache.hadoop.classification.InterfaceAudience\n",
      "[WARNING]   - org.apache.hadoop.classification.InterfaceAudience$LimitedPrivate\n",
      "[WARNING]   - org.apache.hadoop.classification.InterfaceAudience$Private\n",
      "[WARNING]   - org.apache.hadoop.classification.InterfaceAudience$Public\n",
      "[WARNING]   - org.apache.hadoop.classification.InterfaceStability\n",
      "[WARNING]   - org.apache.hadoop.classification.InterfaceStability$Evolving\n",
      "[WARNING]   - org.apache.hadoop.classification.InterfaceStability$Stable\n",
      "[WARNING]   - org.apache.hadoop.classification.InterfaceStability$Unstable\n",
      "[WARNING]   - org.apache.hadoop.classification.tools.ExcludePrivateAnnotationsJDiffDoclet\n",
      "[WARNING]   - org.apache.hadoop.classification.tools.ExcludePrivateAnnotationsStandardDoclet\n",
      "[WARNING]   - 6 more...\n",
      "[WARNING] conscrypt-openjdk-uber-2.5.1.jar, spark-bigquery-with-dependencies_2.12-0.22.0.jar define 4 overlapping resources: \n",
      "[WARNING]   - META-INF/native/conscrypt_openjdk_jni-windows-x86.dll\n",
      "[WARNING]   - META-INF/native/conscrypt_openjdk_jni-windows-x86_64.dll\n",
      "[WARNING]   - META-INF/native/libconscrypt_openjdk_jni-linux-x86_64.so\n",
      "[WARNING]   - META-INF/native/libconscrypt_openjdk_jni-osx-x86_64.dylib\n",
      "[WARNING] gax-2.4.0.jar, spark-bigquery-with-dependencies_2.12-0.22.0.jar define 1 overlapping resource: \n",
      "[WARNING]   - dependencies.properties\n",
      "[WARNING] grpc-core-1.40.1.jar, grpc-grpclb-1.40.1.jar define 2 overlapping resources: \n",
      "[WARNING]   - META-INF/services/io.grpc.LoadBalancerProvider\n",
      "[WARNING]   - META-INF/services/io.grpc.NameResolverProvider\n",
      "[WARNING] logback-classic-1.2.6.jar, slf4j-log4j12-1.7.33.jar define 3 overlapping classes: \n",
      "[WARNING]   - org.slf4j.impl.StaticLoggerBinder\n",
      "[WARNING]   - org.slf4j.impl.StaticMDCBinder\n",
      "[WARNING]   - org.slf4j.impl.StaticMarkerBinder\n",
      "[WARNING] hadoop-client-runtime-3.3.1.jar, kerb-simplekdc-1.0.1.jar define 2 overlapping resources: \n",
      "[WARNING]   - krb5-template.conf\n",
      "[WARNING]   - krb5_udp-template.conf\n",
      "[WARNING] commons-configuration2-2.1.1.jar, hadoop-client-runtime-3.3.1.jar define 2 overlapping resources: \n",
      "[WARNING]   - PropertyList-1.0.dtd\n",
      "[WARNING]   - properties.dtd\n",
      "[WARNING] hadoop-client-runtime-3.3.1.jar, httpclient-4.5.13.jar, spark-bigquery-with-dependencies_2.12-0.22.0.jar define 1 overlapping resource: \n",
      "[WARNING]   - mozilla/public-suffix-list.txt\n",
      "[WARNING] grpc-netty-shaded-1.40.1.jar, spark-bigquery-with-dependencies_2.12-0.22.0.jar define 9 overlapping resources: \n",
      "[WARNING]   - META-INF/io.netty.versions.properties\n",
      "[WARNING]   - META-INF/native-image/io.netty/buffer/native-image.properties\n",
      "[WARNING]   - META-INF/native-image/io.netty/codec-http/native-image.properties\n",
      "[WARNING]   - META-INF/native-image/io.netty/codec-http2/native-image.properties\n",
      "[WARNING]   - META-INF/native-image/io.netty/common/native-image.properties\n",
      "[WARNING]   - META-INF/native-image/io.netty/handler/native-image.properties\n",
      "[WARNING]   - META-INF/native-image/io.netty/transport/native-image.properties\n",
      "[WARNING]   - META-INF/native-image/io.netty/transport/reflection-config.json\n",
      "[WARNING]   - META-INF/services/reactor.blockhound.integration.BlockHoundIntegration\n",
      "[WARNING] animal-sniffer-annotations-1.20.jar, annotations-4.1.1.4.jar, apacheds-i18n-2.0.0-M15.jar, apacheds-kerberos-codec-2.0.0-M15.jar, api-asn1-api-1.0.0-M20.jar, api-common-2.0.2.jar, api-util-1.0.0-M20.jar, audience-annotations-0.5.0.jar, auto-value-annotations-1.8.2.jar, avro-1.10.2.jar, aws-java-sdk-1.7.4.jar, checker-compat-qual-2.5.5.jar, checker-qual-3.8.0.jar, classmate-1.5.1.jar, commons-beanutils-1.9.4.jar, commons-cli-1.5.0.jar, commons-codec-1.15.jar, commons-collections-3.2.2.jar, commons-compress-1.21.jar, commons-configuration2-2.1.1.jar, commons-io-2.8.0.jar, commons-lang-2.6.jar, commons-lang3-3.12.0.jar, commons-logging-1.2.jar, commons-math3-3.4.1.jar, commons-net-3.1.jar, commons-pool2-2.6.2.jar, commons-text-1.6.jar, conscrypt-openjdk-uber-2.5.1.jar, curator-client-2.13.0.jar, curator-framework-2.13.0.jar, curator-recipes-2.13.0.jar, dataproc-templates-1.0-SNAPSHOT.jar, dnsjava-2.1.7.jar, error_prone_annotations-2.9.0.jar, failureaccess-1.0.1.jar, gax-2.4.0.jar, gax-grpc-2.4.0.jar, gax-httpjson-0.97.2.jar, google-api-client-1.32.1.jar, google-api-client-jackson2-1.20.0.jar, google-api-client-java6-1.20.0.jar, google-api-services-pubsub-v1-rev355-1.22.0.jar, google-api-services-storage-v1-rev20220210-1.32.1.jar, google-auth-library-credentials-1.1.0.jar, google-auth-library-oauth2-http-1.1.0.jar, google-cloud-core-2.1.2.jar, google-cloud-core-grpc-2.1.2.jar, google-cloud-core-http-2.5.6.jar, google-cloud-spanner-6.12.2.jar, google-cloud-spanner-jdbc-2.4.2.jar, google-cloud-storage-2.4.5.jar, google-http-client-1.41.7.jar, google-http-client-apache-v2-1.39.2.jar, google-http-client-appengine-1.41.4.jar, google-http-client-gson-1.41.7.jar, google-http-client-jackson-1.22.0.jar, google-http-client-jackson2-1.41.4.jar, google-oauth-client-1.33.3.jar, google-oauth-client-java6-1.20.0.jar, grpc-alts-1.40.1.jar, grpc-api-1.40.1.jar, grpc-auth-1.40.1.jar, grpc-context-1.40.1.jar, grpc-core-1.40.1.jar, grpc-gcp-1.1.0.jar, grpc-google-cloud-spanner-admin-database-v1-6.12.2.jar, grpc-google-cloud-spanner-admin-instance-v1-6.12.2.jar, grpc-google-cloud-spanner-v1-6.12.2.jar, grpc-google-common-protos-2.5.0.jar, grpc-grpclb-1.40.1.jar, grpc-netty-shaded-1.40.1.jar, grpc-protobuf-1.40.1.jar, grpc-protobuf-lite-1.40.1.jar, grpc-stub-1.40.1.jar, gson-2.8.8.jar, guava-31.1-android.jar, hadoop-annotations-3.2.3.jar, hadoop-auth-2.8.5.jar, hadoop-aws-2.7.3.jar, hadoop-client-api-3.3.1.jar, hadoop-client-runtime-3.3.1.jar, hadoop-common-3.2.3.jar, hibernate-validator-7.0.1.Final.jar, hibernate-validator-cdi-7.0.1.Final.jar, htrace-core4-4.2.0-incubating.jar, httpclient-4.5.13.jar, httpcore-4.4.14.jar, j2objc-annotations-1.3.jar, jackson-annotations-2.12.6.jar, jackson-core-2.12.6.jar, jackson-core-asl-1.9.13.jar, jackson-databind-2.12.6.1.jar, jackson-dataformat-yaml-2.12.6.jar, jackson-jaxrs-1.9.2.jar, jackson-mapper-asl-1.9.13.jar, jackson-xc-1.9.2.jar, jakarta.el-4.0.0.jar, jakarta.el-api-4.0.0.jar, jakarta.validation-api-3.0.0.jar, javax.activation-api-1.2.0.jar, javax.annotation-api-1.3.2.jar, javax.servlet-api-3.1.0.jar, jaxb-api-2.2.11.jar, jaxb-impl-2.2.3-1.jar, jboss-logging-3.4.1.Final.jar, jcip-annotations-1.0-1.jar, jersey-core-1.19.jar, jersey-json-1.19.jar, jersey-server-1.19.jar, jersey-servlet-1.19.jar, jettison-1.1.jar, jetty-http-9.4.40.v20210413.jar, jetty-io-9.4.40.v20210413.jar, jetty-security-9.4.40.v20210413.jar, jetty-server-9.4.40.v20210413.jar, jetty-servlet-9.4.40.v20210413.jar, jetty-util-9.4.40.v20210413.jar, jetty-util-ajax-9.4.40.v20210413.jar, jetty-webapp-9.4.40.v20210413.jar, jetty-xml-9.4.40.v20210413.jar, joda-time-2.10.10.jar, jsch-0.1.55.jar, json-20211205.jar, jsp-api-2.1.jar, jsr305-3.0.0.jar, jsr311-api-1.1.1.jar, kafka-clients-2.8.0.jar, kerb-admin-1.0.1.jar, kerb-client-1.0.1.jar, kerb-common-1.0.1.jar, kerb-core-1.0.1.jar, kerb-crypto-1.0.1.jar, kerb-identity-1.0.1.jar, kerb-server-1.0.1.jar, kerb-simplekdc-1.0.1.jar, kerb-util-1.0.1.jar, kerby-asn1-1.0.1.jar, kerby-config-1.0.1.jar, kerby-pkix-1.0.1.jar, kerby-util-1.0.1.jar, kerby-xdr-1.0.1.jar, listenablefuture-9999.0-empty-to-avoid-conflict-with-guava.jar, log4j-1.2.17.jar, log4j-api-2.17.1.jar, log4j-core-2.17.1.jar, logback-classic-1.2.6.jar, logback-core-1.2.6.jar, lz4-java-1.7.1.jar, nimbus-jose-jwt-4.41.1.jar, opencensus-api-0.28.0.jar, opencensus-contrib-grpc-util-0.28.0.jar, opencensus-contrib-http-util-0.28.0.jar, perfmark-api-0.23.0.jar, proto-google-cloud-spanner-admin-database-v1-6.12.2.jar, proto-google-cloud-spanner-admin-instance-v1-6.12.2.jar, proto-google-cloud-spanner-v1-6.12.2.jar, proto-google-common-protos-2.5.0.jar, proto-google-iam-v1-1.1.0.jar, protobuf-java-3.17.3.jar, protobuf-java-util-3.17.3.jar, re2j-1.1.jar, scala-library-2.12.15.jar, slf4j-api-1.7.33.jar, slf4j-log4j12-1.7.33.jar, snakeyaml-1.27.jar, snappy-java-1.1.8.4.jar, spark-bigquery-with-dependencies_2.12-0.22.0.jar, spark-sql-kafka-0-10_2.12-3.2.0.jar, spark-streaming-pubsub_2.12-2.4.0.jar, spark-tags_2.12-3.2.0.jar, spark-token-provider-kafka-0-10_2.12-3.2.0.jar, stax2-api-4.2.1.jar, threetenbp-1.5.1.jar, token-provider-1.0.1.jar, unused-1.0.0.jar, util-1.6.0.jar, woodstox-core-5.3.0.jar, zookeeper-3.6.2.jar, zookeeper-jute-3.6.2.jar define 1 overlapping resource: \n",
      "[WARNING]   - META-INF/MANIFEST.MF\n",
      "[WARNING] jersey-core-1.19.jar, jersey-json-1.19.jar, jersey-server-1.19.jar define 1 overlapping resource: \n",
      "[WARNING]   - META-INF/services/javax.ws.rs.ext.MessageBodyWriter\n",
      "[WARNING] google-api-client-1.32.1.jar, spark-bigquery-with-dependencies_2.12-0.22.0.jar define 1 overlapping resource: \n",
      "[WARNING]   - META-INF/proguard/google-api-client.pro\n",
      "[WARNING] hadoop-client-runtime-3.3.1.jar, jersey-core-1.19.jar, jersey-json-1.19.jar, jersey-server-1.19.jar, jersey-servlet-1.19.jar define 1 overlapping resource: \n",
      "[WARNING]   - META-INF/jersey-module-version\n",
      "[WARNING] jersey-servlet-1.19.jar, logback-classic-1.2.6.jar define 1 overlapping resource: \n",
      "[WARNING]   - META-INF/services/javax.servlet.ServletContainerInitializer\n",
      "[WARNING] spark-bigquery-with-dependencies_2.12-0.22.0.jar, spark-sql-kafka-0-10_2.12-3.2.0.jar define 1 overlapping resource: \n",
      "[WARNING]   - META-INF/services/org.apache.spark.sql.sources.DataSourceRegister\n",
      "[WARNING] checker-qual-3.8.0.jar, commons-beanutils-1.9.4.jar, commons-cli-1.5.0.jar, commons-codec-1.15.jar, commons-collections-3.2.2.jar, commons-compress-1.21.jar, commons-configuration2-2.1.1.jar, commons-io-2.8.0.jar, commons-lang-2.6.jar, commons-lang3-3.12.0.jar, commons-logging-1.2.jar, commons-math3-3.4.1.jar, commons-net-3.1.jar, commons-pool2-2.6.2.jar, commons-text-1.6.jar, grpc-netty-shaded-1.40.1.jar, hadoop-annotations-3.2.3.jar, hadoop-auth-2.8.5.jar, hadoop-aws-2.7.3.jar, hadoop-client-api-3.3.1.jar, hadoop-client-runtime-3.3.1.jar, hadoop-common-3.2.3.jar, javax.activation-api-1.2.0.jar, javax.annotation-api-1.3.2.jar, javax.servlet-api-3.1.0.jar, jboss-logging-3.4.1.Final.jar, joda-time-2.10.10.jar, threetenbp-1.5.1.jar define 1 overlapping resource: \n",
      "[WARNING]   - META-INF/LICENSE.txt\n",
      "[WARNING] annotations-4.1.1.4.jar, spark-bigquery-with-dependencies_2.12-0.22.0.jar define 2 overlapping classes: \n",
      "[WARNING]   - android.annotation.SuppressLint\n",
      "[WARNING]   - android.annotation.TargetApi\n",
      "[WARNING] hadoop-client-runtime-3.3.1.jar, jackson-core-asl-1.9.13.jar, jackson-jaxrs-1.9.2.jar, jackson-mapper-asl-1.9.13.jar, jackson-xc-1.9.2.jar define 1 overlapping resource: \n",
      "[WARNING]   - META-INF/ASL2.0\n",
      "[WARNING] apacheds-i18n-2.0.0-M15.jar, apacheds-kerberos-codec-2.0.0-M15.jar, api-asn1-api-1.0.0-M20.jar, api-util-1.0.0-M20.jar, audience-annotations-0.5.0.jar, avro-1.10.2.jar, classmate-1.5.1.jar, curator-client-2.13.0.jar, curator-framework-2.13.0.jar, curator-recipes-2.13.0.jar, htrace-core4-4.2.0-incubating.jar, httpclient-4.5.13.jar, httpcore-4.4.14.jar, jackson-core-2.12.6.jar, jackson-core-asl-1.9.13.jar, jackson-databind-2.12.6.1.jar, jackson-dataformat-yaml-2.12.6.jar, jackson-jaxrs-1.9.2.jar, jackson-mapper-asl-1.9.13.jar, jackson-xc-1.9.2.jar, kerb-admin-1.0.1.jar, kerb-client-1.0.1.jar, kerb-common-1.0.1.jar, kerb-core-1.0.1.jar, kerb-crypto-1.0.1.jar, kerb-identity-1.0.1.jar, kerb-server-1.0.1.jar, kerb-simplekdc-1.0.1.jar, kerb-util-1.0.1.jar, kerby-asn1-1.0.1.jar, kerby-config-1.0.1.jar, kerby-pkix-1.0.1.jar, kerby-util-1.0.1.jar, kerby-xdr-1.0.1.jar, log4j-1.2.17.jar, log4j-api-2.17.1.jar, log4j-core-2.17.1.jar, spark-sql-kafka-0-10_2.12-3.2.0.jar, spark-streaming-pubsub_2.12-2.4.0.jar, spark-tags_2.12-3.2.0.jar, spark-token-provider-kafka-0-10_2.12-3.2.0.jar, token-provider-1.0.1.jar define 1 overlapping resource: \n",
      "[WARNING]   - META-INF/NOTICE\n",
      "[WARNING] htrace-core4-4.2.0-incubating.jar, jackson-core-2.12.6.jar, jackson-dataformat-yaml-2.12.6.jar define 1 overlapping resource: \n",
      "[WARNING]   - META-INF/services/com.fasterxml.jackson.core.JsonFactory\n",
      "[WARNING] hadoop-auth-2.8.5.jar, hadoop-client-api-3.3.1.jar define 48 overlapping classes: \n",
      "[WARNING]   - org.apache.hadoop.security.authentication.client.AuthenticatedURL\n",
      "[WARNING]   - org.apache.hadoop.security.authentication.client.AuthenticatedURL$1\n",
      "[WARNING]   - org.apache.hadoop.security.authentication.client.AuthenticatedURL$AuthCookieHandler\n",
      "[WARNING]   - org.apache.hadoop.security.authentication.client.AuthenticatedURL$Token\n",
      "[WARNING]   - org.apache.hadoop.security.authentication.client.AuthenticationException\n",
      "[WARNING]   - org.apache.hadoop.security.authentication.client.Authenticator\n",
      "[WARNING]   - org.apache.hadoop.security.authentication.client.ConnectionConfigurator\n",
      "[WARNING]   - org.apache.hadoop.security.authentication.client.KerberosAuthenticator\n",
      "[WARNING]   - org.apache.hadoop.security.authentication.client.KerberosAuthenticator$1\n",
      "[WARNING]   - org.apache.hadoop.security.authentication.client.KerberosAuthenticator$KerberosConfiguration\n",
      "[WARNING]   - 38 more...\n",
      "[WARNING] kafka-clients-2.8.0.jar, scala-library-2.12.15.jar define 2 overlapping resources: \n",
      "[WARNING]   - LICENSE\n",
      "[WARNING]   - NOTICE\n",
      "[WARNING] spark-sql-kafka-0-10_2.12-3.2.0.jar, spark-tags_2.12-3.2.0.jar, spark-token-provider-kafka-0-10_2.12-3.2.0.jar, unused-1.0.0.jar define 1 overlapping classes: \n",
      "[WARNING]   - org.apache.spark.unused.UnusedStubClass\n",
      "[WARNING] hadoop-client-runtime-3.3.1.jar, jersey-servlet-1.19.jar define 1 overlapping resource: \n",
      "[WARNING]   - META-INF/taglib.tld\n",
      "[WARNING] jersey-core-1.19.jar, jersey-json-1.19.jar define 1 overlapping resource: \n",
      "[WARNING]   - META-INF/services/javax.ws.rs.ext.MessageBodyReader\n",
      "[WARNING] hadoop-aws-2.7.3.jar, hadoop-client-api-3.3.1.jar, hadoop-common-3.2.3.jar define 1 overlapping resource: \n",
      "[WARNING]   - META-INF/services/org.apache.hadoop.fs.FileSystem\n",
      "[WARNING] commons-beanutils-1.9.4.jar, commons-cli-1.5.0.jar, commons-codec-1.15.jar, commons-collections-3.2.2.jar, commons-compress-1.21.jar, commons-configuration2-2.1.1.jar, commons-io-2.8.0.jar, commons-lang-2.6.jar, commons-lang3-3.12.0.jar, commons-logging-1.2.jar, commons-math3-3.4.1.jar, commons-net-3.1.jar, commons-pool2-2.6.2.jar, commons-text-1.6.jar, grpc-netty-shaded-1.40.1.jar, hadoop-annotations-3.2.3.jar, hadoop-auth-2.8.5.jar, hadoop-aws-2.7.3.jar, hadoop-client-api-3.3.1.jar, hadoop-client-runtime-3.3.1.jar, hadoop-common-3.2.3.jar, jetty-http-9.4.40.v20210413.jar, jetty-io-9.4.40.v20210413.jar, jetty-security-9.4.40.v20210413.jar, jetty-server-9.4.40.v20210413.jar, jetty-servlet-9.4.40.v20210413.jar, jetty-util-9.4.40.v20210413.jar, jetty-util-ajax-9.4.40.v20210413.jar, jetty-webapp-9.4.40.v20210413.jar, jetty-xml-9.4.40.v20210413.jar, joda-time-2.10.10.jar define 1 overlapping resource: \n",
      "[WARNING]   - META-INF/NOTICE.txt\n",
      "[WARNING] htrace-core4-4.2.0-incubating.jar, jackson-databind-2.12.6.1.jar, jackson-dataformat-yaml-2.12.6.jar define 1 overlapping resource: \n",
      "[WARNING]   - META-INF/services/com.fasterxml.jackson.core.ObjectCodec\n",
      "[WARNING] maven-shade-plugin has detected that some class files are\n",
      "[WARNING] present in two or more JARs. When this happens, only one\n",
      "[WARNING] single version of the class is copied to the uber jar.\n",
      "[WARNING] Usually this is not harmful and you can skip these warnings,\n",
      "[WARNING] otherwise try to manually exclude artifacts based on\n",
      "[WARNING] mvn dependency:tree -Ddetail=true and the above output.\n",
      "[WARNING] See https://maven.apache.org/plugins/maven-shade-plugin/\n",
      "[INFO] Replacing original artifact with shaded artifact.\n",
      "[INFO] Replacing /home/jupyter/dataproc-templates/java/target/dataproc-templates-1.0-SNAPSHOT.jar with /home/jupyter/dataproc-templates/java/target/dataproc-templates-1.0-SNAPSHOT-shaded.jar\n",
      "[INFO] \n",
      "[INFO] --- spotless-maven-plugin:2.1.0:check (default) @ dataproc-templates ---\n",
      "[INFO] \n",
      "[INFO] --- maven-install-plugin:2.4:install (default-install) @ dataproc-templates ---\n",
      "[INFO] Installing /home/jupyter/dataproc-templates/java/target/dataproc-templates-1.0-SNAPSHOT.jar to /home/jupyter/.m2/repository/com/google/cloud/dataproc-templates/1.0-SNAPSHOT/dataproc-templates-1.0-SNAPSHOT.jar\n",
      "[INFO] Installing /home/jupyter/dataproc-templates/java/dependency-reduced-pom.xml to /home/jupyter/.m2/repository/com/google/cloud/dataproc-templates/1.0-SNAPSHOT/dataproc-templates-1.0-SNAPSHOT.pom\n",
      "[INFO] ------------------------------------------------------------------------\n",
      "[INFO] BUILD SUCCESS\n",
      "[INFO] ------------------------------------------------------------------------\n",
      "[INFO] Total time:  01:22 min\n",
      "[INFO] Finished at: 2022-09-01T03:00:10Z\n",
      "[INFO] ------------------------------------------------------------------------\n",
      "[INFO] Scanning for projects...\n",
      "[WARNING] \n",
      "[WARNING] Some problems were encountered while building the effective model for com.google.cloud:dataproc-templates:jar:1.0-SNAPSHOT\n",
      "[WARNING] 'build.plugins.plugin.version' for org.apache.maven.plugins:maven-shade-plugin is missing. @ line 291, column 15\n",
      "[WARNING] \n",
      "[WARNING] It is highly recommended to fix these problems because they threaten the stability of your build.\n",
      "[WARNING] \n",
      "[WARNING] For this reason, future Maven versions might no longer support building such malformed projects.\n",
      "[WARNING] \n",
      "[INFO] \n",
      "[INFO] ----------------< com.google.cloud:dataproc-templates >-----------------\n",
      "[INFO] Building dataproc-templates 1.0-SNAPSHOT\n",
      "[INFO] --------------------------------[ jar ]---------------------------------\n",
      "[INFO] \n",
      "[INFO] --- maven-dependency-plugin:2.8:get (default-cli) @ dataproc-templates ---\n",
      "[INFO] Resolving io.grpc:grpc-grpclb:jar:1.40.1 with transitive dependencies\n",
      "[INFO] ------------------------------------------------------------------------\n",
      "[INFO] BUILD SUCCESS\n",
      "[INFO] ------------------------------------------------------------------------\n",
      "[INFO] Total time:  1.286 s\n",
      "[INFO] Finished at: 2022-09-01T03:00:12Z\n",
      "[INFO] ------------------------------------------------------------------------\n"
     ]
    },
    {
     "name": "stderr",
     "output_type": "stream",
     "text": [
      "--2022-09-01 02:58:43--  https://downloads.mysql.com/archives/get/p/3/file/mysql-connector-java-8.0.29.tar.gz\n",
      "Resolving downloads.mysql.com (downloads.mysql.com)... 104.86.241.75, 2600:1409:9800:993::2e31, 2600:1409:9800:98b::2e31\n",
      "Connecting to downloads.mysql.com (downloads.mysql.com)|104.86.241.75|:443... connected.\n",
      "HTTP request sent, awaiting response... 302 Moved Temporarily\n",
      "Location: https://cdn.mysql.com/archives/mysql-connector-java-8.0/mysql-connector-java-8.0.29.tar.gz [following]\n",
      "--2022-09-01 02:58:43--  https://cdn.mysql.com/archives/mysql-connector-java-8.0/mysql-connector-java-8.0.29.tar.gz\n",
      "Resolving cdn.mysql.com (cdn.mysql.com)... 104.97.44.231\n",
      "Connecting to cdn.mysql.com (cdn.mysql.com)|104.97.44.231|:443... connected.\n",
      "HTTP request sent, awaiting response... 200 OK\n",
      "Length: 4273713 (4.1M) [application/x-tar-gz]\n",
      "Saving to: ‘mysql-connector-java-8.0.29.tar.gz’\n",
      "\n",
      "     0K .......... .......... .......... .......... ..........  1% 3.08M 1s\n",
      "    50K .......... .......... .......... .......... ..........  2% 8.96M 1s\n",
      "   100K .......... .......... .......... .......... ..........  3% 11.3M 1s\n",
      "   150K .......... .......... .......... .......... ..........  4% 16.3M 1s\n",
      "   200K .......... .......... .......... .......... ..........  5% 16.7M 0s\n",
      "   250K .......... .......... .......... .......... ..........  7% 14.9M 0s\n",
      "   300K .......... .......... .......... .......... ..........  8% 24.4M 0s\n",
      "   350K .......... .......... .......... .......... ..........  9% 26.5M 0s\n",
      "   400K .......... .......... .......... .......... .......... 10% 38.8M 0s\n",
      "   450K .......... .......... .......... .......... .......... 11% 37.5M 0s\n",
      "   500K .......... .......... .......... .......... .......... 13% 49.9M 0s\n",
      "   550K .......... .......... .......... .......... .......... 14% 61.5M 0s\n",
      "   600K .......... .......... .......... .......... .......... 15% 32.6M 0s\n",
      "   650K .......... .......... .......... .......... .......... 16% 63.3M 0s\n",
      "   700K .......... .......... .......... .......... .......... 17% 34.8M 0s\n",
      "   750K .......... .......... .......... .......... .......... 19%  211M 0s\n",
      "   800K .......... .......... .......... .......... .......... 20% 50.4M 0s\n",
      "   850K .......... .......... .......... .......... .......... 21% 41.3M 0s\n",
      "   900K .......... .......... .......... .......... .......... 22% 58.0M 0s\n",
      "   950K .......... .......... .......... .......... .......... 23%  221M 0s\n",
      "  1000K .......... .......... .......... .......... .......... 25% 72.2M 0s\n",
      "  1050K .......... .......... .......... .......... .......... 26% 80.4M 0s\n",
      "  1100K .......... .......... .......... .......... .......... 27%  109M 0s\n",
      "  1150K .......... .......... .......... .......... .......... 28% 77.4M 0s\n",
      "  1200K .......... .......... .......... .......... .......... 29%  250M 0s\n",
      "  1250K .......... .......... .......... .......... .......... 31%  101M 0s\n",
      "  1300K .......... .......... .......... .......... .......... 32% 95.7M 0s\n",
      "  1350K .......... .......... .......... .......... .......... 33% 82.9M 0s\n",
      "  1400K .......... .......... .......... .......... .......... 34% 93.9M 0s\n",
      "  1450K .......... .......... .......... .......... .......... 35%  241M 0s\n",
      "  1500K .......... .......... .......... .......... .......... 37%  137M 0s\n",
      "  1550K .......... .......... .......... .......... .......... 38% 94.4M 0s\n",
      "  1600K .......... .......... .......... .......... .......... 39%  224M 0s\n",
      "  1650K .......... .......... .......... .......... .......... 40%  102M 0s\n",
      "  1700K .......... .......... .......... .......... .......... 41%  116M 0s\n",
      "  1750K .......... .......... .......... .......... .......... 43%  242M 0s\n",
      "  1800K .......... .......... .......... .......... .......... 44%  122M 0s\n",
      "  1850K .......... .......... .......... .......... .......... 45%  111M 0s\n",
      "  1900K .......... .......... .......... .......... .......... 46%  204M 0s\n",
      "  1950K .......... .......... .......... .......... .......... 47%  223M 0s\n",
      "  2000K .......... .......... .......... .......... .......... 49%  136M 0s\n",
      "  2050K .......... .......... .......... .......... .......... 50%  156M 0s\n",
      "  2100K .......... .......... .......... .......... .......... 51%  115M 0s\n",
      "  2150K .......... .......... .......... .......... .......... 52%  195M 0s\n",
      "  2200K .......... .......... .......... .......... .......... 53%  215M 0s\n",
      "  2250K .......... .......... .......... .......... .......... 55%  174M 0s\n",
      "  2300K .......... .......... .......... .......... .......... 56%  220M 0s\n",
      "  2350K .......... .......... .......... .......... .......... 57%  143M 0s\n",
      "  2400K .......... .......... .......... .......... .......... 58%  220M 0s\n",
      "  2450K .......... .......... .......... .......... .......... 59%  239M 0s\n",
      "  2500K .......... .......... .......... .......... .......... 61%  168M 0s\n",
      "  2550K .......... .......... .......... .......... .......... 62%  177M 0s\n",
      "  2600K .......... .......... .......... .......... .......... 63%  245M 0s\n",
      "  2650K .......... .......... .......... .......... .......... 64%  217M 0s\n",
      "  2700K .......... .......... .......... .......... .......... 65%  203M 0s\n",
      "  2750K .......... .......... .......... .......... .......... 67%  207M 0s\n",
      "  2800K .......... .......... .......... .......... .......... 68%  258M 0s\n",
      "  2850K .......... .......... .......... .......... .......... 69%  224M 0s\n",
      "  2900K .......... .......... .......... .......... .......... 70%  217M 0s\n",
      "  2950K .......... .......... .......... .......... .......... 71%  202M 0s\n",
      "  3000K .......... .......... .......... .......... .......... 73%  230M 0s\n",
      "  3050K .......... .......... .......... .......... .......... 74%  184M 0s\n",
      "  3100K .......... .......... .......... .......... .......... 75%  219M 0s\n",
      "  3150K .......... .......... .......... .......... .......... 76%  226M 0s\n",
      "  3200K .......... .......... .......... .......... .......... 77%  272M 0s\n",
      "  3250K .......... .......... .......... .......... .......... 79%  203M 0s\n",
      "  3300K .......... .......... .......... .......... .......... 80%  232M 0s\n",
      "  3350K .......... .......... .......... .......... .......... 81%  242M 0s\n",
      "  3400K .......... .......... .......... .......... .......... 82%  215M 0s\n",
      "  3450K .......... .......... .......... .......... .......... 83%  253M 0s\n",
      "  3500K .......... .......... .......... .......... .......... 85%  241M 0s\n",
      "  3550K .......... .......... .......... .......... .......... 86%  251M 0s\n",
      "  3600K .......... .......... .......... .......... .......... 87%  187M 0s\n",
      "  3650K .......... .......... .......... .......... .......... 88%  226M 0s\n",
      "  3700K .......... .......... .......... .......... .......... 89%  228M 0s\n",
      "  3750K .......... .......... .......... .......... .......... 91%  216M 0s\n",
      "  3800K .......... .......... .......... .......... .......... 92%  243M 0s\n",
      "  3850K .......... .......... .......... .......... .......... 93%  221M 0s\n",
      "  3900K .......... .......... .......... .......... .......... 94%  251M 0s\n",
      "  3950K .......... .......... .......... .......... .......... 95%  206M 0s\n",
      "  4000K .......... .......... .......... .......... .......... 97%  257M 0s\n",
      "  4050K .......... .......... .......... .......... .......... 98%  258M 0s\n",
      "  4100K .......... .......... .......... .......... .......... 99%  196M 0s\n",
      "  4150K .......... .......... ...                             100%  335M=0.07s\n",
      "\n",
      "2022-09-01 02:58:43 (59.3 MB/s) - ‘mysql-connector-java-8.0.29.tar.gz’ saved [4273713/4273713]\n",
      "\n",
      "tar: mysql-connector-java-5.1.30.tar.gz: Cannot open: No such file or directory\n",
      "tar: Error is not recoverable: exiting now\n"
     ]
    }
   ],
   "source": [
    "%%bash\n",
    "wget https://downloads.mysql.com/archives/get/p/3/file/mysql-connector-java-8.0.29.tar.gz\n",
    "tar -xf mysql-connector-java-8.0.29.tar.gz\n",
    "sudo apt-get update -y\n",
    "sudo apt-get install default-jdk -y\n",
    "export JAVA_HOME=\"/usr/lib/jvm/java-11-openjdk-amd64\"\n",
    "export PATH=\"$JAVA_HOME/bin:$PATH\"\n",
    "export MAVEN_HOME=\"/usr/bin/apache-maven-3.6.3\"\n",
    "export PATH=\"$MAVEN_HOME/bin:$PATH\"\n",
    "export PATH\n",
    "mvn clean spotless:apply install -DskipTests \n",
    "mvn dependency:get -Dartifact=io.grpc:grpc-grpclb:1.40.1 -Dmaven.repo.local=./grpc_lb "
   ]
  },
  {
   "cell_type": "code",
   "execution_count": 98,
   "id": "939cdcd5-0f3e-4f51-aa78-93d1976cb0f4",
   "metadata": {
    "collapsed": true,
    "jupyter": {
     "outputs_hidden": true
    },
    "tags": []
   },
   "outputs": [
    {
     "name": "stdout",
     "output_type": "stream",
     "text": [
      "Copying file://target/dataproc-templates-1.0-SNAPSHOT.jar [Content-Type=application/java-archive]...\n",
      "==> NOTE: You are uploading one or more large file(s), which would run          \n",
      "significantly faster if you enable parallel composite uploads. This\n",
      "feature can be enabled by editing the\n",
      "\"parallel_composite_upload_threshold\" value in your .boto\n",
      "configuration file. However, note that if you do this large files will\n",
      "be uploaded as `composite objects\n",
      "<https://cloud.google.com/storage/docs/composite-objects>`_,which\n",
      "means that any user who downloads such objects will need to have a\n",
      "compiled crcmod installed (see \"gsutil help crcmod\"). This is because\n",
      "without a compiled crcmod, computing checksums on composite objects is\n",
      "so slow that gsutil disables downloads of composite objects.\n",
      "\n",
      "\\ [1 files][158.5 MiB/158.5 MiB]                                                \n",
      "Operation completed over 1 objects/158.5 MiB.                                    \n",
      "Copying file://./grpc_lb/io/grpc/grpc-grpclb/1.40.1/grpc-grpclb-1.40.1.jar [Content-Type=application/java-archive]...\n",
      "/ [1 files][174.5 KiB/174.5 KiB]                                                \n",
      "Operation completed over 1 objects/174.5 KiB.                                    \n",
      "Copying file://./src/test/resources/log4j-spark-driver-template.properties [Content-Type=application/octet-stream]...\n",
      "/ [1 files][  861.0 B/  861.0 B]                                                \n",
      "Operation completed over 1 objects/861.0 B.                                      \n",
      "Copying file://mysql-connector-java-8.0.29/mysql-connector-java-8.0.29.jar [Content-Type=application/java-archive]...\n",
      "/ [1 files][  2.4 MiB/  2.4 MiB]                                                \n",
      "Operation completed over 1 objects/2.4 MiB.                                      \n"
     ]
    }
   ],
   "source": [
    "!gsutil cp target/$JAR_FILE $GCS_STAGING_LOCATION/$JAR_FILE\n",
    "!gsutil cp $GRPC_JAR_PATH/$GRPC_JAR $GCS_STAGING_LOCATION/$GRPC_JAR\n",
    "!gsutil cp $LOG4J_PROPERTIES_PATH/$LOG4J_PROPERTIES $GCS_STAGING_LOCATION/$LOG4J_PROPERTIES\n",
    "!gsutil cp mysql-connector-java-8.0.29/mysql-connector-java-8.0.29.jar $GCS_STAGING_LOCATION/jars/mysql-connector-java-8.0.29.jar"
   ]
  },
  {
   "cell_type": "markdown",
   "id": "0d9bb170-09c4-40d1-baaf-9e907f215889",
   "metadata": {},
   "source": [
    "## Step 7: Calculate Parallel Jobs for MySQL to GCS\n",
    "This step uses MAX_PARALLELISM parameter to calculate number of parallel jobs to run"
   ]
  },
  {
   "cell_type": "code",
   "execution_count": 99,
   "id": "2c501db0-c1fb-4a05-88b8-a7e546e2b1d0",
   "metadata": {
    "collapsed": true,
    "jupyter": {
     "outputs_hidden": true
    },
    "tags": []
   },
   "outputs": [
    {
     "name": "stdout",
     "output_type": "stream",
     "text": [
      "list of tables for execution : \n",
      "[['employees', 'employees_nop'], ['employees_mup']]\n"
     ]
    }
   ],
   "source": [
    "# calculate parallel jobs:\n",
    "COMPLETE_LIST = copy.deepcopy(MYSQLTABLE_LIST)\n",
    "PARALLEL_JOBS = len(MYSQLTABLE_LIST)//MAX_PARALLELISM\n",
    "JOB_LIST = []\n",
    "while len(COMPLETE_LIST) > 0:\n",
    "    SUB_LIST = []\n",
    "    for i in range(MAX_PARALLELISM):\n",
    "        if len(COMPLETE_LIST)>0 :\n",
    "            SUB_LIST.append(COMPLETE_LIST[0].lower())\n",
    "            COMPLETE_LIST.pop(0)\n",
    "        else:\n",
    "            break\n",
    "    JOB_LIST.append(SUB_LIST)\n",
    "print(\"list of tables for execution : \")\n",
    "print(JOB_LIST)"
   ]
  },
  {
   "cell_type": "markdown",
   "id": "78f6f83b-891a-4515-a1d6-f3406a25dc2a",
   "metadata": {},
   "source": [
    "## Step 8: Execute Pipeline to Migrate tables from MySQL to GCS"
   ]
  },
  {
   "cell_type": "code",
   "execution_count": 100,
   "id": "1f98914b-bd74-4d0e-9562-7019d504a25e",
   "metadata": {
    "collapsed": true,
    "jupyter": {
     "outputs_hidden": true
    },
    "tags": []
   },
   "outputs": [],
   "source": [
    "mysql_to_gcs_jobs = []"
   ]
  },
  {
   "cell_type": "code",
   "execution_count": 101,
   "id": "863fa2d8-4ef7-4722-87c8-eec6c06f892b",
   "metadata": {
    "collapsed": true,
    "jupyter": {
     "outputs_hidden": true
    },
    "tags": []
   },
   "outputs": [],
   "source": [
    "def migrate_mysql_to_gcs(EXECUTION_LIST):\n",
    "    EXECUTION_LIST = EXECUTION_LIST\n",
    "    aiplatform.init(project=PROJECT,staging_bucket=GCS_STAGING_LOCATION)\n",
    "    \n",
    "    @dsl.pipeline(\n",
    "        name=\"java-mysql-to-gcs-pyspark\",\n",
    "        description=\"Pipeline to get data from mysql to gcs\",\n",
    "    )\n",
    "    def pipeline(\n",
    "        PROJECT_ID: str = PROJECT,\n",
    "        LOCATION: str = REGION,\n",
    "        MAIN_CLASS: str = MAIN_CLASS,\n",
    "        JAR_FILE_URIS: list = JARS,\n",
    "        SUBNETWORK_URI: str = SUBNET,\n",
    "        FILE_URIS: list = [GCS_STAGING_LOCATION + \"/\" + LOG4J_PROPERTIES]\n",
    "    ):\n",
    "        for table in EXECUTION_LIST:\n",
    "            BATCH_ID = \"mysql2gcs-{}\".format(datetime.now().strftime(\"%s\"))\n",
    "            mysql_to_gcs_jobs.append(BATCH_ID)\n",
    "            TEMPLATE_SPARK_ARGS = [\n",
    "            \"--template=JDBCTOGCS\",\n",
    "            \"--templateProperty\", \"project.id={}\".format(PROJECT),\n",
    "            \"-templateProperty\", \"jdbctogcs.jdbc.url={}\".format(JDBC_URL),\n",
    "            \"--templateProperty\", \"jdbctogcs.jdbc.driver.class.name={}\".format(JDBC_DRIVER),\n",
    "            \"--templateProperty\",\"jdbctogcs.output.location={}/{}\".format(MYSQL_OUTPUT_GCS_LOCATION,table),\n",
    "            \"--templateProperty\", \"jdbctogcs.output.format={}\".format(MYSQL_OUTPUT_GCS_FORMAT),\n",
    "            \"--templateProperty\", \"jdbctogcs.write.mode={}\".format(MYSQL_OUTPUT_GCS_MODE),\n",
    "            \"--templateProperty\", \"jdbctogcs.sql=select * from {}\".format(table),\n",
    "            ]\n",
    "\n",
    "            _ = DataprocSparkBatchOp(\n",
    "                project=PROJECT_ID,\n",
    "                location=LOCATION,\n",
    "                batch_id=BATCH_ID,\n",
    "                main_class=MAIN_CLASS,\n",
    "                jar_file_uris=JAR_FILE_URIS,\n",
    "                file_uris=FILE_URIS,\n",
    "                subnetwork_uri=SUBNETWORK_URI,\n",
    "                args=TEMPLATE_SPARK_ARGS\n",
    "            )\n",
    "            time.sleep(3)\n",
    "\n",
    "    compiler.Compiler().compile(pipeline_func=pipeline, package_path=\"pipeline.json\")\n",
    "\n",
    "    pipeline = aiplatform.PipelineJob(\n",
    "            display_name=\"pipeline\",\n",
    "        template_path=\"pipeline.json\",\n",
    "        pipeline_root=PIPELINE_ROOT,\n",
    "        enable_caching=False,\n",
    "        )\n",
    "    pipeline.run()"
   ]
  },
  {
   "cell_type": "code",
   "execution_count": 102,
   "id": "44205b54-1ac7-42f3-85ad-5b20f531056b",
   "metadata": {
    "collapsed": true,
    "jupyter": {
     "outputs_hidden": true
    },
    "tags": []
   },
   "outputs": [
    {
     "name": "stdout",
     "output_type": "stream",
     "text": [
      "['employees', 'employees_nop']\n"
     ]
    },
    {
     "name": "stderr",
     "output_type": "stream",
     "text": [
      "/home/jupyter/.local/lib/python3.7/site-packages/kfp/v2/compiler/compiler.py:1295: FutureWarning: APIs imported from the v1 namespace (e.g. kfp.dsl, kfp.components, etc) will not be supported by the v2 compiler since v2.0.0\n",
      "  category=FutureWarning,\n"
     ]
    },
    {
     "name": "stdout",
     "output_type": "stream",
     "text": [
      "Creating PipelineJob\n",
      "PipelineJob created. Resource name: projects/617357862702/locations/us-central1/pipelineJobs/java-mysql-to-gcs-pyspark-20220901030258\n",
      "To use this PipelineJob in another session:\n",
      "pipeline_job = aiplatform.PipelineJob.get('projects/617357862702/locations/us-central1/pipelineJobs/java-mysql-to-gcs-pyspark-20220901030258')\n",
      "View Pipeline Job:\n",
      "https://console.cloud.google.com/vertex-ai/locations/us-central1/pipelines/runs/java-mysql-to-gcs-pyspark-20220901030258?project=617357862702\n",
      "PipelineJob projects/617357862702/locations/us-central1/pipelineJobs/java-mysql-to-gcs-pyspark-20220901030258 current state:\n",
      "PipelineState.PIPELINE_STATE_RUNNING\n",
      "PipelineJob projects/617357862702/locations/us-central1/pipelineJobs/java-mysql-to-gcs-pyspark-20220901030258 current state:\n",
      "PipelineState.PIPELINE_STATE_RUNNING\n",
      "PipelineJob projects/617357862702/locations/us-central1/pipelineJobs/java-mysql-to-gcs-pyspark-20220901030258 current state:\n",
      "PipelineState.PIPELINE_STATE_RUNNING\n",
      "PipelineJob projects/617357862702/locations/us-central1/pipelineJobs/java-mysql-to-gcs-pyspark-20220901030258 current state:\n",
      "PipelineState.PIPELINE_STATE_RUNNING\n",
      "PipelineJob projects/617357862702/locations/us-central1/pipelineJobs/java-mysql-to-gcs-pyspark-20220901030258 current state:\n",
      "PipelineState.PIPELINE_STATE_RUNNING\n",
      "PipelineJob projects/617357862702/locations/us-central1/pipelineJobs/java-mysql-to-gcs-pyspark-20220901030258 current state:\n",
      "PipelineState.PIPELINE_STATE_RUNNING\n",
      "PipelineJob run completed. Resource name: projects/617357862702/locations/us-central1/pipelineJobs/java-mysql-to-gcs-pyspark-20220901030258\n",
      "['employees_mup']\n",
      "Creating PipelineJob\n",
      "PipelineJob created. Resource name: projects/617357862702/locations/us-central1/pipelineJobs/java-mysql-to-gcs-pyspark-20220901030835\n",
      "To use this PipelineJob in another session:\n",
      "pipeline_job = aiplatform.PipelineJob.get('projects/617357862702/locations/us-central1/pipelineJobs/java-mysql-to-gcs-pyspark-20220901030835')\n",
      "View Pipeline Job:\n",
      "https://console.cloud.google.com/vertex-ai/locations/us-central1/pipelines/runs/java-mysql-to-gcs-pyspark-20220901030835?project=617357862702\n",
      "PipelineJob projects/617357862702/locations/us-central1/pipelineJobs/java-mysql-to-gcs-pyspark-20220901030835 current state:\n",
      "PipelineState.PIPELINE_STATE_RUNNING\n",
      "PipelineJob projects/617357862702/locations/us-central1/pipelineJobs/java-mysql-to-gcs-pyspark-20220901030835 current state:\n",
      "PipelineState.PIPELINE_STATE_RUNNING\n",
      "PipelineJob projects/617357862702/locations/us-central1/pipelineJobs/java-mysql-to-gcs-pyspark-20220901030835 current state:\n",
      "PipelineState.PIPELINE_STATE_RUNNING\n",
      "PipelineJob projects/617357862702/locations/us-central1/pipelineJobs/java-mysql-to-gcs-pyspark-20220901030835 current state:\n",
      "PipelineState.PIPELINE_STATE_RUNNING\n",
      "PipelineJob projects/617357862702/locations/us-central1/pipelineJobs/java-mysql-to-gcs-pyspark-20220901030835 current state:\n",
      "PipelineState.PIPELINE_STATE_RUNNING\n",
      "PipelineJob run completed. Resource name: projects/617357862702/locations/us-central1/pipelineJobs/java-mysql-to-gcs-pyspark-20220901030835\n"
     ]
    }
   ],
   "source": [
    "for execution_list in JOB_LIST:\n",
    "    print(execution_list)\n",
    "    migrate_mysql_to_gcs(execution_list)"
   ]
  },
  {
   "cell_type": "markdown",
   "id": "9ce7f828-dacc-404b-8927-dc3813e7216a",
   "metadata": {},
   "source": [
    "## Step 9: Get status for tables migrated from MySql to GCS"
   ]
  },
  {
   "cell_type": "code",
   "execution_count": 103,
   "id": "b611510f-271c-447a-899d-42fbb983268d",
   "metadata": {
    "collapsed": true,
    "jupyter": {
     "outputs_hidden": true
    },
    "tags": []
   },
   "outputs": [],
   "source": [
    "def get_bearer_token():\n",
    "    \n",
    "    try:\n",
    "        #Defining Scope\n",
    "        CREDENTIAL_SCOPES = [\"https://www.googleapis.com/auth/cloud-platform\"]\n",
    "\n",
    "        #Assining credentials and project value\n",
    "        credentials, project_id = google.auth.default(scopes=CREDENTIAL_SCOPES)\n",
    "\n",
    "        #Refreshing credentials data\n",
    "        credentials.refresh(requests.Request())\n",
    "\n",
    "        #Get refreshed token\n",
    "        token = credentials.token\n",
    "        if token:\n",
    "            return (token,200)\n",
    "        else:\n",
    "            return \"Bearer token not generated\"\n",
    "    except Exception as error:\n",
    "        return (\"Bearer token not generated. Error : {}\".format(error),500)"
   ]
  },
  {
   "cell_type": "code",
   "execution_count": 104,
   "id": "d1fcbc63-19db-42a8-a2ed-d9855da00c04",
   "metadata": {
    "collapsed": true,
    "jupyter": {
     "outputs_hidden": true
    },
    "tags": []
   },
   "outputs": [
    {
     "name": "stdout",
     "output_type": "stream",
     "text": [
      "Bearer token generated\n"
     ]
    }
   ],
   "source": [
    "from google.auth.transport import requests\n",
    "import google\n",
    "token = get_bearer_token()\n",
    "if token[1] == 200:\n",
    "    print(\"Bearer token generated\")\n",
    "else:\n",
    "    print(token)"
   ]
  },
  {
   "cell_type": "code",
   "execution_count": 105,
   "id": "5be3cf87-6d28-4b23-8466-87d3399f7a29",
   "metadata": {
    "collapsed": true,
    "jupyter": {
     "outputs_hidden": true
    },
    "tags": []
   },
   "outputs": [],
   "source": [
    "import requests\n",
    "\n",
    "mysql_to_gcs_status = []\n",
    "job_status_url = \"https://dataproc.googleapis.com/v1/projects/{}/locations/{}/batches/{}\"\n",
    "for job in mysql_to_gcs_jobs:\n",
    "    auth = \"Bearer \" + token[0]\n",
    "    url = job_status_url.format(PROJECT,REGION,job)\n",
    "    headers = {\n",
    "      'Content-Type': 'application/json; charset=UTF-8',\n",
    "      'Authorization': auth \n",
    "    }\n",
    "    response = requests.get(url, headers=headers)\n",
    "    mysql_to_gcs_status.append(response.json()['state'])"
   ]
  },
  {
   "cell_type": "code",
   "execution_count": 106,
   "id": "1097575d-07c2-4659-a75f-d7e898e3f077",
   "metadata": {
    "collapsed": true,
    "jupyter": {
     "outputs_hidden": true
    },
    "tags": []
   },
   "outputs": [
    {
     "data": {
      "text/html": [
       "<div>\n",
       "<style scoped>\n",
       "    .dataframe tbody tr th:only-of-type {\n",
       "        vertical-align: middle;\n",
       "    }\n",
       "\n",
       "    .dataframe tbody tr th {\n",
       "        vertical-align: top;\n",
       "    }\n",
       "\n",
       "    .dataframe thead th {\n",
       "        text-align: right;\n",
       "    }\n",
       "</style>\n",
       "<table border=\"1\" class=\"dataframe\">\n",
       "  <thead>\n",
       "    <tr style=\"text-align: right;\">\n",
       "      <th></th>\n",
       "      <th>table</th>\n",
       "      <th>mysql_to_gcs_job</th>\n",
       "      <th>mysql_to_gcs_status</th>\n",
       "    </tr>\n",
       "  </thead>\n",
       "  <tbody>\n",
       "    <tr>\n",
       "      <th>0</th>\n",
       "      <td>employees</td>\n",
       "      <td>mysql2gcs-1662001372</td>\n",
       "      <td>SUCCEEDED</td>\n",
       "    </tr>\n",
       "    <tr>\n",
       "      <th>1</th>\n",
       "      <td>employees_nop</td>\n",
       "      <td>mysql2gcs-1662001375</td>\n",
       "      <td>SUCCEEDED</td>\n",
       "    </tr>\n",
       "    <tr>\n",
       "      <th>2</th>\n",
       "      <td>employees_mup</td>\n",
       "      <td>mysql2gcs-1662001712</td>\n",
       "      <td>SUCCEEDED</td>\n",
       "    </tr>\n",
       "  </tbody>\n",
       "</table>\n",
       "</div>"
      ],
      "text/plain": [
       "           table      mysql_to_gcs_job mysql_to_gcs_status\n",
       "0      employees  mysql2gcs-1662001372           SUCCEEDED\n",
       "1  employees_nop  mysql2gcs-1662001375           SUCCEEDED\n",
       "2  employees_mup  mysql2gcs-1662001712           SUCCEEDED"
      ]
     },
     "execution_count": 106,
     "metadata": {},
     "output_type": "execute_result"
    }
   ],
   "source": [
    "statusDF = pd.DataFrame({\"table\" : MYSQLTABLE_LIST,\"mysql_to_gcs_job\" : mysql_to_gcs_jobs, \"mysql_to_gcs_status\" : mysql_to_gcs_status})\n",
    "statusDF"
   ]
  },
  {
   "cell_type": "markdown",
   "id": "2b70a6d4-3372-4f5c-bdf6-e0c856ec4318",
   "metadata": {},
   "source": [
    "## Step 10: Execute Pipeline to Migrate tables from GCS to SPANNER"
   ]
  },
  {
   "cell_type": "code",
   "execution_count": 107,
   "id": "2d42a236-4970-4859-9094-39b4fd3a41bb",
   "metadata": {
    "collapsed": true,
    "jupyter": {
     "outputs_hidden": true
    },
    "tags": []
   },
   "outputs": [],
   "source": [
    "gcs_to_spanner_jobs = []"
   ]
  },
  {
   "cell_type": "code",
   "execution_count": 108,
   "id": "3d7fa0ac-c99d-4d35-b7d8-5fd5ca23d12b",
   "metadata": {
    "collapsed": true,
    "jupyter": {
     "outputs_hidden": true
    },
    "tags": []
   },
   "outputs": [],
   "source": [
    "def migrate_gcs_to_spanner(EXECUTION_LIST):\n",
    "    EXECUTION_LIST = EXECUTION_LIST\n",
    "    aiplatform.init(project=PROJECT, staging_bucket=GCS_STAGING_LOCATION)\n",
    "\n",
    "\n",
    "    @dsl.pipeline(\n",
    "        name=\"java-gcs-to-spanner-pyspark\",\n",
    "        description=\"Pipeline to get data from gcs to spanner\",\n",
    "    )\n",
    "    def pipeline(\n",
    "        PROJECT_ID: str = PROJECT,\n",
    "        LOCATION: str = REGION,\n",
    "        MAIN_CLASS: str = MAIN_CLASS,\n",
    "        JAR_FILE_URIS: list = JARS,\n",
    "        SUBNETWORK_URIS: str = SUBNET,\n",
    "        FILE_URIS: list = [GCS_STAGING_LOCATION + \"/\" + LOG4J_PROPERTIES]\n",
    "    ):\n",
    "        for table in EXECUTION_LIST:\n",
    "            BATCH_ID = \"gcs2spanner-{}\".format(datetime.now().strftime(\"%s\"))\n",
    "            gcs_to_spanner_jobs.append(BATCH_ID)\n",
    "            TEMPLATE_SPARK_ARGS = [\n",
    "            \"--template=GCSTOSPANNER\",\n",
    "            \"--templateProperty\", \"project.id={}\".format(PROJECT),\n",
    "            \"-templateProperty\",  \"gcs.spanner.input.format={}\".format(MYSQL_OUTPUT_GCS_FORMAT),\n",
    "            \"--templateProperty\", \"gcs.spanner.input.location={}/{}/\".format(MYSQL_OUTPUT_GCS_LOCATION,table),\n",
    "            \"--templateProperty\", \"gcs.spanner.output.instance={}\".format(SPANNER_INSTANCE),\n",
    "            \"--templateProperty\", \"gcs.spanner.output.database={}\".format(SPANNER_DATABASE),\n",
    "            \"--templateProperty\", \"gcs.spanner.output.table={}\".format(table),\n",
    "            \"--templateProperty\", \"gcs.spanner.output.saveMode={}\".format(MYSQL_OUTPUT_GCS_MODE.capitalize()),\n",
    "            \"--templateProperty\", \"gcs.spanner.output.primaryKey={}\".format(SPANNER_TABLE_PRIMARY_KEYS[table])\n",
    "            ]\n",
    "            _ = DataprocSparkBatchOp(\n",
    "                project=PROJECT_ID,\n",
    "                location=LOCATION,\n",
    "                batch_id=BATCH_ID,\n",
    "                main_class=MAIN_CLASS,\n",
    "                jar_file_uris=JAR_FILE_URIS,\n",
    "                file_uris=FILE_URIS,\n",
    "                subnetwork_uri=SUBNETWORK_URIS,\n",
    "                args=TEMPLATE_SPARK_ARGS\n",
    "            )\n",
    "            time.sleep(3)\n",
    "                                                    \n",
    "\n",
    "    compiler.Compiler().compile(pipeline_func=pipeline, package_path=\"pipeline.json\")\n",
    "\n",
    "    pipeline = aiplatform.PipelineJob(\n",
    "            display_name=\"pipeline\",\n",
    "            template_path=\"pipeline.json\",\n",
    "            pipeline_root=PIPELINE_ROOT,\n",
    "            enable_caching=False,\n",
    "            )\n",
    "    pipeline.run()"
   ]
  },
  {
   "cell_type": "code",
   "execution_count": 112,
   "id": "f93c93a4-9621-418f-a004-673537c63bc5",
   "metadata": {
    "collapsed": true,
    "jupyter": {
     "outputs_hidden": true
    },
    "tags": []
   },
   "outputs": [
    {
     "name": "stdout",
     "output_type": "stream",
     "text": [
      "Creating PipelineJob\n",
      "PipelineJob created. Resource name: projects/617357862702/locations/us-central1/pipelineJobs/java-gcs-to-spanner-pyspark-20220901031448\n",
      "To use this PipelineJob in another session:\n",
      "pipeline_job = aiplatform.PipelineJob.get('projects/617357862702/locations/us-central1/pipelineJobs/java-gcs-to-spanner-pyspark-20220901031448')\n",
      "View Pipeline Job:\n",
      "https://console.cloud.google.com/vertex-ai/locations/us-central1/pipelines/runs/java-gcs-to-spanner-pyspark-20220901031448?project=617357862702\n",
      "PipelineJob projects/617357862702/locations/us-central1/pipelineJobs/java-gcs-to-spanner-pyspark-20220901031448 current state:\n",
      "PipelineState.PIPELINE_STATE_RUNNING\n",
      "PipelineJob projects/617357862702/locations/us-central1/pipelineJobs/java-gcs-to-spanner-pyspark-20220901031448 current state:\n",
      "PipelineState.PIPELINE_STATE_RUNNING\n",
      "PipelineJob projects/617357862702/locations/us-central1/pipelineJobs/java-gcs-to-spanner-pyspark-20220901031448 current state:\n",
      "PipelineState.PIPELINE_STATE_RUNNING\n",
      "PipelineJob projects/617357862702/locations/us-central1/pipelineJobs/java-gcs-to-spanner-pyspark-20220901031448 current state:\n",
      "PipelineState.PIPELINE_STATE_RUNNING\n",
      "PipelineJob projects/617357862702/locations/us-central1/pipelineJobs/java-gcs-to-spanner-pyspark-20220901031448 current state:\n",
      "PipelineState.PIPELINE_STATE_RUNNING\n",
      "PipelineJob run completed. Resource name: projects/617357862702/locations/us-central1/pipelineJobs/java-gcs-to-spanner-pyspark-20220901031448\n"
     ]
    }
   ],
   "source": [
    "for execution_list in JOB_LIST:\n",
    "    print(execution_list)\n",
    "    migrate_gcs_to_spanner(execution_list)"
   ]
  },
  {
   "cell_type": "markdown",
   "id": "85368f00-4d8a-4ea2-a1a6-53dc7e4e35f7",
   "metadata": {},
   "source": [
    "## Step 11: Get status for tables migrated from GCS to SPANNER"
   ]
  },
  {
   "cell_type": "code",
   "execution_count": 113,
   "id": "b1bd1517-ed35-40fb-87de-d85fb84e7483",
   "metadata": {
    "collapsed": true,
    "jupyter": {
     "outputs_hidden": true
    },
    "tags": []
   },
   "outputs": [
    {
     "name": "stdout",
     "output_type": "stream",
     "text": [
      "Bearer token generated\n"
     ]
    }
   ],
   "source": [
    "from google.auth.transport import requests\n",
    "import google\n",
    "\n",
    "token = get_bearer_token()\n",
    "if token[1] == 200:\n",
    "    print(\"Bearer token generated\")\n",
    "else:\n",
    "    print(token)"
   ]
  },
  {
   "cell_type": "code",
   "execution_count": 118,
   "id": "2e57b94e-3747-4d92-b67d-d342cddb193e",
   "metadata": {
    "collapsed": true,
    "jupyter": {
     "outputs_hidden": true
    },
    "tags": []
   },
   "outputs": [],
   "source": [
    "import requests\n",
    "\n",
    "gcs_to_spanner_status = []\n",
    "job_status_url = \"https://dataproc.googleapis.com/v1/projects/{}/locations/{}/batches/{}\"\n",
    "for job in gcs_to_spanner_jobs:\n",
    "    auth = \"Bearer \" + token[0]\n",
    "    url = job_status_url.format(PROJECT,REGION,job)\n",
    "    headers = {\n",
    "      'Content-Type': 'application/json; charset=UTF-8',\n",
    "      'Authorization': auth \n",
    "    }\n",
    "    response = requests.get(url, headers=headers)\n",
    "    gcs_to_spanner_status.append(response.json()['state'])"
   ]
  },
  {
   "cell_type": "code",
   "execution_count": 119,
   "id": "1c346cea-5dfb-4239-8caf-c56efa819f76",
   "metadata": {
    "collapsed": true,
    "jupyter": {
     "outputs_hidden": true
    },
    "tags": []
   },
   "outputs": [
    {
     "data": {
      "text/html": [
       "<div>\n",
       "<style scoped>\n",
       "    .dataframe tbody tr th:only-of-type {\n",
       "        vertical-align: middle;\n",
       "    }\n",
       "\n",
       "    .dataframe tbody tr th {\n",
       "        vertical-align: top;\n",
       "    }\n",
       "\n",
       "    .dataframe thead th {\n",
       "        text-align: right;\n",
       "    }\n",
       "</style>\n",
       "<table border=\"1\" class=\"dataframe\">\n",
       "  <thead>\n",
       "    <tr style=\"text-align: right;\">\n",
       "      <th></th>\n",
       "      <th>table</th>\n",
       "      <th>mysql_to_gcs_job</th>\n",
       "      <th>mysql_to_gcs_status</th>\n",
       "      <th>gcs_to_spanner_job</th>\n",
       "      <th>gcs_to_spanner_status</th>\n",
       "    </tr>\n",
       "  </thead>\n",
       "  <tbody>\n",
       "    <tr>\n",
       "      <th>0</th>\n",
       "      <td>employees</td>\n",
       "      <td>mysql2gcs-1662001372</td>\n",
       "      <td>SUCCEEDED</td>\n",
       "      <td>gcs2spanner-1662002079</td>\n",
       "      <td>SUCCEEDED</td>\n",
       "    </tr>\n",
       "    <tr>\n",
       "      <th>1</th>\n",
       "      <td>employees_nop</td>\n",
       "      <td>mysql2gcs-1662001375</td>\n",
       "      <td>SUCCEEDED</td>\n",
       "      <td>gcs2spanner-1662002082</td>\n",
       "      <td>SUCCEEDED</td>\n",
       "    </tr>\n",
       "    <tr>\n",
       "      <th>2</th>\n",
       "      <td>employees_mup</td>\n",
       "      <td>mysql2gcs-1662001712</td>\n",
       "      <td>SUCCEEDED</td>\n",
       "      <td>gcs2spanner-1662002085</td>\n",
       "      <td>SUCCEEDED</td>\n",
       "    </tr>\n",
       "  </tbody>\n",
       "</table>\n",
       "</div>"
      ],
      "text/plain": [
       "           table      mysql_to_gcs_job mysql_to_gcs_status  \\\n",
       "0      employees  mysql2gcs-1662001372           SUCCEEDED   \n",
       "1  employees_nop  mysql2gcs-1662001375           SUCCEEDED   \n",
       "2  employees_mup  mysql2gcs-1662001712           SUCCEEDED   \n",
       "\n",
       "       gcs_to_spanner_job gcs_to_spanner_status  \n",
       "0  gcs2spanner-1662002079             SUCCEEDED  \n",
       "1  gcs2spanner-1662002082             SUCCEEDED  \n",
       "2  gcs2spanner-1662002085             SUCCEEDED  "
      ]
     },
     "execution_count": 119,
     "metadata": {},
     "output_type": "execute_result"
    }
   ],
   "source": [
    "statusDF['gcs_to_spanner_job'] = gcs_to_spanner_jobs\n",
    "statusDF['gcs_to_spanner_status'] = gcs_to_spanner_status\n",
    "statusDF"
   ]
  },
  {
   "cell_type": "markdown",
   "id": "0961f164-c7e4-4bb5-80f0-25fd1051147b",
   "metadata": {},
   "source": [
    "## Step 12: Validate row counts of migrated tables from MySQL to SPANNER"
   ]
  },
  {
   "cell_type": "code",
   "execution_count": 120,
   "id": "8a3a28fb-3a39-4a10-b92d-0685b351a1b3",
   "metadata": {
    "collapsed": true,
    "jupyter": {
     "outputs_hidden": true
    },
    "tags": []
   },
   "outputs": [],
   "source": [
    "mysql_row_count = []\n",
    "spanner_row_count = []"
   ]
  },
  {
   "cell_type": "code",
   "execution_count": 121,
   "id": "25299344-c167-4764-a5d1-56c1b384d104",
   "metadata": {
    "collapsed": true,
    "jupyter": {
     "outputs_hidden": true
    },
    "tags": []
   },
   "outputs": [],
   "source": [
    "# get mysql table counts\n",
    "DB = sqlalchemy.create_engine(\n",
    "            sqlalchemy.engine.url.URL.create(\n",
    "                drivername=PYMYSQL_DRIVER,\n",
    "                username=MYSQL_USERNAME,\n",
    "                password=MYSQL_PASSWORD,\n",
    "                database=MYSQL_DATABASE,\n",
    "                host=MYSQL_HOST,\n",
    "                port=MYSQL_PORT\n",
    "              )\n",
    "            )\n",
    "with DB.connect() as conn:\n",
    "    for table in MYSQLTABLE_LIST:\n",
    "        results = DB.execute(\"select count(*) from {}\".format(table)).fetchall()\n",
    "        for row in results:\n",
    "            mysql_row_count.append(row[0])"
   ]
  },
  {
   "cell_type": "code",
   "execution_count": 122,
   "id": "ab0e539d-5180-4f5b-915e-35f7ea45e0d3",
   "metadata": {
    "collapsed": true,
    "jupyter": {
     "outputs_hidden": true
    },
    "tags": []
   },
   "outputs": [],
   "source": [
    "# get spanner table counts\n",
    "from google.cloud import spanner\n",
    "\n",
    "spanner_client = spanner.Client()\n",
    "instance = spanner_client.instance(SPANNER_INSTANCE)\n",
    "database = instance.database(SPANNER_DATABASE)\n",
    "\n",
    "for table in MYSQLTABLE_LIST:\n",
    "    with database.snapshot() as snapshot:\n",
    "        results = snapshot.execute_sql(\"select count(*) from {}\".format(table))\n",
    "        for row in results:\n",
    "            spanner_row_count.append(row[0])"
   ]
  },
  {
   "cell_type": "code",
   "execution_count": 123,
   "id": "4b1afe12-3eb9-4133-8377-66dc63ac649c",
   "metadata": {
    "collapsed": true,
    "jupyter": {
     "outputs_hidden": true
    },
    "tags": []
   },
   "outputs": [
    {
     "data": {
      "text/html": [
       "<div>\n",
       "<style scoped>\n",
       "    .dataframe tbody tr th:only-of-type {\n",
       "        vertical-align: middle;\n",
       "    }\n",
       "\n",
       "    .dataframe tbody tr th {\n",
       "        vertical-align: top;\n",
       "    }\n",
       "\n",
       "    .dataframe thead th {\n",
       "        text-align: right;\n",
       "    }\n",
       "</style>\n",
       "<table border=\"1\" class=\"dataframe\">\n",
       "  <thead>\n",
       "    <tr style=\"text-align: right;\">\n",
       "      <th></th>\n",
       "      <th>table</th>\n",
       "      <th>mysql_to_gcs_job</th>\n",
       "      <th>mysql_to_gcs_status</th>\n",
       "      <th>gcs_to_spanner_job</th>\n",
       "      <th>gcs_to_spanner_status</th>\n",
       "      <th>mysql_row_count</th>\n",
       "      <th>spanner_row_count</th>\n",
       "    </tr>\n",
       "  </thead>\n",
       "  <tbody>\n",
       "    <tr>\n",
       "      <th>0</th>\n",
       "      <td>employees</td>\n",
       "      <td>mysql2gcs-1662001372</td>\n",
       "      <td>SUCCEEDED</td>\n",
       "      <td>gcs2spanner-1662002079</td>\n",
       "      <td>SUCCEEDED</td>\n",
       "      <td>18</td>\n",
       "      <td>18</td>\n",
       "    </tr>\n",
       "    <tr>\n",
       "      <th>1</th>\n",
       "      <td>employees_nop</td>\n",
       "      <td>mysql2gcs-1662001375</td>\n",
       "      <td>SUCCEEDED</td>\n",
       "      <td>gcs2spanner-1662002082</td>\n",
       "      <td>SUCCEEDED</td>\n",
       "      <td>18</td>\n",
       "      <td>18</td>\n",
       "    </tr>\n",
       "    <tr>\n",
       "      <th>2</th>\n",
       "      <td>employees_mup</td>\n",
       "      <td>mysql2gcs-1662001712</td>\n",
       "      <td>SUCCEEDED</td>\n",
       "      <td>gcs2spanner-1662002085</td>\n",
       "      <td>SUCCEEDED</td>\n",
       "      <td>18</td>\n",
       "      <td>18</td>\n",
       "    </tr>\n",
       "  </tbody>\n",
       "</table>\n",
       "</div>"
      ],
      "text/plain": [
       "           table      mysql_to_gcs_job mysql_to_gcs_status  \\\n",
       "0      employees  mysql2gcs-1662001372           SUCCEEDED   \n",
       "1  employees_nop  mysql2gcs-1662001375           SUCCEEDED   \n",
       "2  employees_mup  mysql2gcs-1662001712           SUCCEEDED   \n",
       "\n",
       "       gcs_to_spanner_job gcs_to_spanner_status  mysql_row_count  \\\n",
       "0  gcs2spanner-1662002079             SUCCEEDED               18   \n",
       "1  gcs2spanner-1662002082             SUCCEEDED               18   \n",
       "2  gcs2spanner-1662002085             SUCCEEDED               18   \n",
       "\n",
       "   spanner_row_count  \n",
       "0                 18  \n",
       "1                 18  \n",
       "2                 18  "
      ]
     },
     "execution_count": 123,
     "metadata": {},
     "output_type": "execute_result"
    }
   ],
   "source": [
    "statusDF['mysql_row_count'] = mysql_row_count \n",
    "statusDF['spanner_row_count'] = spanner_row_count \n",
    "statusDF"
   ]
  }
 ],
 "metadata": {
  "environment": {
   "kernel": "python3",
   "name": "common-cpu.m95",
   "type": "gcloud",
   "uri": "gcr.io/deeplearning-platform-release/base-cpu:m95"
  },
  "kernelspec": {
   "display_name": "Python 3",
   "language": "python",
   "name": "python3"
  },
  "language_info": {
   "codemirror_mode": {
    "name": "ipython",
    "version": 3
   },
   "file_extension": ".py",
   "mimetype": "text/x-python",
   "name": "python",
   "nbconvert_exporter": "python",
   "pygments_lexer": "ipython3",
   "version": "3.7.12"
  }
 },
 "nbformat": 4,
 "nbformat_minor": 5
}
